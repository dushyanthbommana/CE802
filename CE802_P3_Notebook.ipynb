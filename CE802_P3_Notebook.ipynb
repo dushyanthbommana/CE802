{
 "cells": [
  {
   "cell_type": "markdown",
   "id": "7213a712",
   "metadata": {},
   "source": [
    "Regstration Number : 2010722"
   ]
  },
  {
   "cell_type": "markdown",
   "id": "6e61ceb0",
   "metadata": {},
   "source": [
    "#importing required libraries\n",
    "import numpy as np\n",
    "import pandas as pd\n",
    "import matplotlib.pyplot as plt\n",
    "import seaborn as sns"
   ]
  },
  {
   "cell_type": "code",
   "execution_count": null,
   "id": "1ee29a16",
   "metadata": {},
   "outputs": [],
   "source": [
    "# Reading the dataset into a dataframe df_p3\n",
    "df_p3=pd.read_csv(\"D:\\Lab_Work\\CE802_Assignment2\\CE802_P3_Data\\CE802_P3_Data.csv\")"
   ]
  },
  {
   "cell_type": "code",
   "execution_count": 3,
   "id": "e38a8d29",
   "metadata": {},
   "outputs": [
    {
     "data": {
      "text/html": [
       "<div>\n",
       "<style scoped>\n",
       "    .dataframe tbody tr th:only-of-type {\n",
       "        vertical-align: middle;\n",
       "    }\n",
       "\n",
       "    .dataframe tbody tr th {\n",
       "        vertical-align: top;\n",
       "    }\n",
       "\n",
       "    .dataframe thead th {\n",
       "        text-align: right;\n",
       "    }\n",
       "</style>\n",
       "<table border=\"1\" class=\"dataframe\">\n",
       "  <thead>\n",
       "    <tr style=\"text-align: right;\">\n",
       "      <th></th>\n",
       "      <th>F1</th>\n",
       "      <th>F2</th>\n",
       "      <th>F3</th>\n",
       "      <th>F4</th>\n",
       "      <th>F5</th>\n",
       "      <th>F6</th>\n",
       "      <th>F7</th>\n",
       "      <th>F8</th>\n",
       "      <th>F9</th>\n",
       "      <th>F10</th>\n",
       "      <th>F11</th>\n",
       "      <th>F12</th>\n",
       "      <th>F13</th>\n",
       "      <th>F14</th>\n",
       "      <th>F15</th>\n",
       "      <th>F16</th>\n",
       "      <th>Target</th>\n",
       "    </tr>\n",
       "  </thead>\n",
       "  <tbody>\n",
       "    <tr>\n",
       "      <th>0</th>\n",
       "      <td>11.85</td>\n",
       "      <td>-258.09</td>\n",
       "      <td>-6.95</td>\n",
       "      <td>2557.29</td>\n",
       "      <td>Low</td>\n",
       "      <td>Europe</td>\n",
       "      <td>7.59</td>\n",
       "      <td>-28.22</td>\n",
       "      <td>-259.22</td>\n",
       "      <td>-1578.12</td>\n",
       "      <td>-141.76</td>\n",
       "      <td>9</td>\n",
       "      <td>6</td>\n",
       "      <td>20.19</td>\n",
       "      <td>169.26</td>\n",
       "      <td>1.64</td>\n",
       "      <td>999.41</td>\n",
       "    </tr>\n",
       "    <tr>\n",
       "      <th>1</th>\n",
       "      <td>11.99</td>\n",
       "      <td>-169.71</td>\n",
       "      <td>-16.06</td>\n",
       "      <td>2862.87</td>\n",
       "      <td>Low</td>\n",
       "      <td>Rest</td>\n",
       "      <td>2.57</td>\n",
       "      <td>-13.76</td>\n",
       "      <td>-321.80</td>\n",
       "      <td>-1914.16</td>\n",
       "      <td>-165.83</td>\n",
       "      <td>6</td>\n",
       "      <td>6</td>\n",
       "      <td>9.51</td>\n",
       "      <td>6259.05</td>\n",
       "      <td>0.08</td>\n",
       "      <td>0.00</td>\n",
       "    </tr>\n",
       "    <tr>\n",
       "      <th>2</th>\n",
       "      <td>3.48</td>\n",
       "      <td>-317.76</td>\n",
       "      <td>-8.14</td>\n",
       "      <td>2175.81</td>\n",
       "      <td>Medium</td>\n",
       "      <td>UK</td>\n",
       "      <td>1.60</td>\n",
       "      <td>-32.76</td>\n",
       "      <td>-253.54</td>\n",
       "      <td>457.12</td>\n",
       "      <td>-203.87</td>\n",
       "      <td>15</td>\n",
       "      <td>10</td>\n",
       "      <td>7.02</td>\n",
       "      <td>38504.82</td>\n",
       "      <td>6.40</td>\n",
       "      <td>266.29</td>\n",
       "    </tr>\n",
       "    <tr>\n",
       "      <th>3</th>\n",
       "      <td>14.75</td>\n",
       "      <td>-394.26</td>\n",
       "      <td>-5.61</td>\n",
       "      <td>1927.86</td>\n",
       "      <td>Low</td>\n",
       "      <td>UK</td>\n",
       "      <td>7.33</td>\n",
       "      <td>-13.42</td>\n",
       "      <td>-149.86</td>\n",
       "      <td>-1972.04</td>\n",
       "      <td>-145.52</td>\n",
       "      <td>6</td>\n",
       "      <td>10</td>\n",
       "      <td>33.99</td>\n",
       "      <td>20883.90</td>\n",
       "      <td>21.98</td>\n",
       "      <td>598.77</td>\n",
       "    </tr>\n",
       "    <tr>\n",
       "      <th>4</th>\n",
       "      <td>10.25</td>\n",
       "      <td>-365.46</td>\n",
       "      <td>-10.33</td>\n",
       "      <td>3187.98</td>\n",
       "      <td>High</td>\n",
       "      <td>USA</td>\n",
       "      <td>4.37</td>\n",
       "      <td>-32.66</td>\n",
       "      <td>-224.58</td>\n",
       "      <td>-2022.36</td>\n",
       "      <td>-153.94</td>\n",
       "      <td>12</td>\n",
       "      <td>10</td>\n",
       "      <td>4.29</td>\n",
       "      <td>12095.91</td>\n",
       "      <td>2167.48</td>\n",
       "      <td>396.90</td>\n",
       "    </tr>\n",
       "  </tbody>\n",
       "</table>\n",
       "</div>"
      ],
      "text/plain": [
       "      F1      F2     F3       F4      F5      F6    F7     F8      F9  \\\n",
       "0  11.85 -258.09  -6.95  2557.29     Low  Europe  7.59 -28.22 -259.22   \n",
       "1  11.99 -169.71 -16.06  2862.87     Low    Rest  2.57 -13.76 -321.80   \n",
       "2   3.48 -317.76  -8.14  2175.81  Medium      UK  1.60 -32.76 -253.54   \n",
       "3  14.75 -394.26  -5.61  1927.86     Low      UK  7.33 -13.42 -149.86   \n",
       "4  10.25 -365.46 -10.33  3187.98    High     USA  4.37 -32.66 -224.58   \n",
       "\n",
       "       F10     F11  F12  F13    F14       F15      F16  Target  \n",
       "0 -1578.12 -141.76    9    6  20.19    169.26     1.64  999.41  \n",
       "1 -1914.16 -165.83    6    6   9.51   6259.05     0.08    0.00  \n",
       "2   457.12 -203.87   15   10   7.02  38504.82     6.40  266.29  \n",
       "3 -1972.04 -145.52    6   10  33.99  20883.90    21.98  598.77  \n",
       "4 -2022.36 -153.94   12   10   4.29  12095.91  2167.48  396.90  "
      ]
     },
     "execution_count": 3,
     "metadata": {},
     "output_type": "execute_result"
    }
   ],
   "source": [
    "# Displaying the first six rows of the dataframe\n",
    "df_p3.head()"
   ]
  },
  {
   "cell_type": "code",
   "execution_count": 4,
   "id": "5c61f35c",
   "metadata": {},
   "outputs": [
    {
     "data": {
      "text/plain": [
       "F1        float64\n",
       "F2        float64\n",
       "F3        float64\n",
       "F4        float64\n",
       "F5         object\n",
       "F6         object\n",
       "F7        float64\n",
       "F8        float64\n",
       "F9        float64\n",
       "F10       float64\n",
       "F11       float64\n",
       "F12         int64\n",
       "F13         int64\n",
       "F14       float64\n",
       "F15       float64\n",
       "F16       float64\n",
       "Target    float64\n",
       "dtype: object"
      ]
     },
     "execution_count": 4,
     "metadata": {},
     "output_type": "execute_result"
    }
   ],
   "source": [
    "# Finding the datatypes of all the features\n",
    "df_p3.dtypes"
   ]
  },
  {
   "cell_type": "code",
   "execution_count": 5,
   "id": "653eb473",
   "metadata": {},
   "outputs": [
    {
     "name": "stdout",
     "output_type": "stream",
     "text": [
      "<class 'pandas.core.frame.DataFrame'>\n",
      "RangeIndex: 1500 entries, 0 to 1499\n",
      "Data columns (total 17 columns):\n",
      " #   Column  Non-Null Count  Dtype  \n",
      "---  ------  --------------  -----  \n",
      " 0   F1      1500 non-null   float64\n",
      " 1   F2      1500 non-null   float64\n",
      " 2   F3      1500 non-null   float64\n",
      " 3   F4      1500 non-null   float64\n",
      " 4   F5      1500 non-null   object \n",
      " 5   F6      1500 non-null   object \n",
      " 6   F7      1500 non-null   float64\n",
      " 7   F8      1500 non-null   float64\n",
      " 8   F9      1500 non-null   float64\n",
      " 9   F10     1500 non-null   float64\n",
      " 10  F11     1500 non-null   float64\n",
      " 11  F12     1500 non-null   int64  \n",
      " 12  F13     1500 non-null   int64  \n",
      " 13  F14     1500 non-null   float64\n",
      " 14  F15     1500 non-null   float64\n",
      " 15  F16     1500 non-null   float64\n",
      " 16  Target  1500 non-null   float64\n",
      "dtypes: float64(13), int64(2), object(2)\n",
      "memory usage: 199.3+ KB\n"
     ]
    }
   ],
   "source": [
    "df_p3.info()"
   ]
  },
  {
   "cell_type": "code",
   "execution_count": 66,
   "id": "fa9fe5d9",
   "metadata": {},
   "outputs": [
    {
     "data": {
      "text/plain": [
       "F1        0\n",
       "F2        0\n",
       "F3        0\n",
       "F4        0\n",
       "F5        0\n",
       "F6        0\n",
       "F7        0\n",
       "F8        0\n",
       "F9        0\n",
       "F10       0\n",
       "F11       0\n",
       "F12       0\n",
       "F13       0\n",
       "F14       0\n",
       "F15       0\n",
       "F16       0\n",
       "Target    0\n",
       "dtype: int64"
      ]
     },
     "execution_count": 66,
     "metadata": {},
     "output_type": "execute_result"
    }
   ],
   "source": [
    "# Checking for missing values\n",
    "df_p3.isnull().sum()"
   ]
  },
  {
   "cell_type": "markdown",
   "id": "7f3bd36d",
   "metadata": {},
   "source": [
    "There are no missing/Null values in the given dataset"
   ]
  },
  {
   "cell_type": "code",
   "execution_count": 6,
   "id": "fdc1107e",
   "metadata": {},
   "outputs": [
    {
     "data": {
      "image/png": "[encoded data removed]",
      "text/plain": [
       "<Figure size 432x288 with 2 Axes>"
      ]
     },
     "metadata": {
      "needs_background": "light"
     },
     "output_type": "display_data"
    }
   ],
   "source": [
    "# Checking corelation among the variables\n",
    "corr = df_p3.corr()\n",
    "ax = sns.heatmap(\n",
    "    corr, \n",
    "    vmin=-1, vmax=1, center=0,\n",
    "    cmap=sns.diverging_palette(20, 220, n=200),\n",
    "    square=True\n",
    ")\n",
    "ax.set_xticklabels(\n",
    "    ax.get_xticklabels(),\n",
    "    rotation=45,\n",
    "    horizontalalignment='right'\n",
    ");"
   ]
  },
  {
   "cell_type": "markdown",
   "id": "1311613c",
   "metadata": {},
   "source": [
    "It is observed from the heat map that no two vaiables are highly corelated, Therefore the analysis is performed using all the features."
   ]
  },
  {
   "cell_type": "code",
   "execution_count": 7,
   "id": "b704fd2c",
   "metadata": {},
   "outputs": [],
   "source": [
    "# Encoding variables F5 and F6 since they are catogorical variables.\n",
    "X_enc = df_p3[['F5','F6']]\n",
    "X_enc = pd.get_dummies(data=X_enc, drop_first=True)"
   ]
  },
  {
   "cell_type": "code",
   "execution_count": 8,
   "id": "3c56996d",
   "metadata": {},
   "outputs": [],
   "source": [
    "df_p3_New = pd.concat([df_p3,X_enc],axis=1)\n",
    "df_p3_New = df_p3_New.drop(['F5'], axis = 1)\n",
    "df_p3_New = df_p3_New.drop(['F6'], axis = 1)"
   ]
  },
  {
   "cell_type": "code",
   "execution_count": 9,
   "id": "c10c41d5",
   "metadata": {},
   "outputs": [
    {
     "data": {
      "text/html": [
       "<div>\n",
       "<style scoped>\n",
       "    .dataframe tbody tr th:only-of-type {\n",
       "        vertical-align: middle;\n",
       "    }\n",
       "\n",
       "    .dataframe tbody tr th {\n",
       "        vertical-align: top;\n",
       "    }\n",
       "\n",
       "    .dataframe thead th {\n",
       "        text-align: right;\n",
       "    }\n",
       "</style>\n",
       "<table border=\"1\" class=\"dataframe\">\n",
       "  <thead>\n",
       "    <tr style=\"text-align: right;\">\n",
       "      <th></th>\n",
       "      <th>F1</th>\n",
       "      <th>F2</th>\n",
       "      <th>F3</th>\n",
       "      <th>F4</th>\n",
       "      <th>F7</th>\n",
       "      <th>F8</th>\n",
       "      <th>F9</th>\n",
       "      <th>F10</th>\n",
       "      <th>F11</th>\n",
       "      <th>F12</th>\n",
       "      <th>...</th>\n",
       "      <th>F15</th>\n",
       "      <th>F16</th>\n",
       "      <th>Target</th>\n",
       "      <th>F5_Low</th>\n",
       "      <th>F5_Medium</th>\n",
       "      <th>F5_Very high</th>\n",
       "      <th>F5_Very low</th>\n",
       "      <th>F6_Rest</th>\n",
       "      <th>F6_UK</th>\n",
       "      <th>F6_USA</th>\n",
       "    </tr>\n",
       "  </thead>\n",
       "  <tbody>\n",
       "    <tr>\n",
       "      <th>0</th>\n",
       "      <td>11.85</td>\n",
       "      <td>-258.09</td>\n",
       "      <td>-6.95</td>\n",
       "      <td>2557.29</td>\n",
       "      <td>7.59</td>\n",
       "      <td>-28.22</td>\n",
       "      <td>-259.22</td>\n",
       "      <td>-1578.12</td>\n",
       "      <td>-141.76</td>\n",
       "      <td>9</td>\n",
       "      <td>...</td>\n",
       "      <td>169.26</td>\n",
       "      <td>1.64</td>\n",
       "      <td>999.41</td>\n",
       "      <td>1</td>\n",
       "      <td>0</td>\n",
       "      <td>0</td>\n",
       "      <td>0</td>\n",
       "      <td>0</td>\n",
       "      <td>0</td>\n",
       "      <td>0</td>\n",
       "    </tr>\n",
       "    <tr>\n",
       "      <th>1</th>\n",
       "      <td>11.99</td>\n",
       "      <td>-169.71</td>\n",
       "      <td>-16.06</td>\n",
       "      <td>2862.87</td>\n",
       "      <td>2.57</td>\n",
       "      <td>-13.76</td>\n",
       "      <td>-321.80</td>\n",
       "      <td>-1914.16</td>\n",
       "      <td>-165.83</td>\n",
       "      <td>6</td>\n",
       "      <td>...</td>\n",
       "      <td>6259.05</td>\n",
       "      <td>0.08</td>\n",
       "      <td>0.00</td>\n",
       "      <td>1</td>\n",
       "      <td>0</td>\n",
       "      <td>0</td>\n",
       "      <td>0</td>\n",
       "      <td>1</td>\n",
       "      <td>0</td>\n",
       "      <td>0</td>\n",
       "    </tr>\n",
       "    <tr>\n",
       "      <th>2</th>\n",
       "      <td>3.48</td>\n",
       "      <td>-317.76</td>\n",
       "      <td>-8.14</td>\n",
       "      <td>2175.81</td>\n",
       "      <td>1.60</td>\n",
       "      <td>-32.76</td>\n",
       "      <td>-253.54</td>\n",
       "      <td>457.12</td>\n",
       "      <td>-203.87</td>\n",
       "      <td>15</td>\n",
       "      <td>...</td>\n",
       "      <td>38504.82</td>\n",
       "      <td>6.40</td>\n",
       "      <td>266.29</td>\n",
       "      <td>0</td>\n",
       "      <td>1</td>\n",
       "      <td>0</td>\n",
       "      <td>0</td>\n",
       "      <td>0</td>\n",
       "      <td>1</td>\n",
       "      <td>0</td>\n",
       "    </tr>\n",
       "    <tr>\n",
       "      <th>3</th>\n",
       "      <td>14.75</td>\n",
       "      <td>-394.26</td>\n",
       "      <td>-5.61</td>\n",
       "      <td>1927.86</td>\n",
       "      <td>7.33</td>\n",
       "      <td>-13.42</td>\n",
       "      <td>-149.86</td>\n",
       "      <td>-1972.04</td>\n",
       "      <td>-145.52</td>\n",
       "      <td>6</td>\n",
       "      <td>...</td>\n",
       "      <td>20883.90</td>\n",
       "      <td>21.98</td>\n",
       "      <td>598.77</td>\n",
       "      <td>1</td>\n",
       "      <td>0</td>\n",
       "      <td>0</td>\n",
       "      <td>0</td>\n",
       "      <td>0</td>\n",
       "      <td>1</td>\n",
       "      <td>0</td>\n",
       "    </tr>\n",
       "    <tr>\n",
       "      <th>4</th>\n",
       "      <td>10.25</td>\n",
       "      <td>-365.46</td>\n",
       "      <td>-10.33</td>\n",
       "      <td>3187.98</td>\n",
       "      <td>4.37</td>\n",
       "      <td>-32.66</td>\n",
       "      <td>-224.58</td>\n",
       "      <td>-2022.36</td>\n",
       "      <td>-153.94</td>\n",
       "      <td>12</td>\n",
       "      <td>...</td>\n",
       "      <td>12095.91</td>\n",
       "      <td>2167.48</td>\n",
       "      <td>396.90</td>\n",
       "      <td>0</td>\n",
       "      <td>0</td>\n",
       "      <td>0</td>\n",
       "      <td>0</td>\n",
       "      <td>0</td>\n",
       "      <td>0</td>\n",
       "      <td>1</td>\n",
       "    </tr>\n",
       "  </tbody>\n",
       "</table>\n",
       "<p>5 rows × 22 columns</p>\n",
       "</div>"
      ],
      "text/plain": [
       "      F1      F2     F3       F4    F7     F8      F9      F10     F11  F12  \\\n",
       "0  11.85 -258.09  -6.95  2557.29  7.59 -28.22 -259.22 -1578.12 -141.76    9   \n",
       "1  11.99 -169.71 -16.06  2862.87  2.57 -13.76 -321.80 -1914.16 -165.83    6   \n",
       "2   3.48 -317.76  -8.14  2175.81  1.60 -32.76 -253.54   457.12 -203.87   15   \n",
       "3  14.75 -394.26  -5.61  1927.86  7.33 -13.42 -149.86 -1972.04 -145.52    6   \n",
       "4  10.25 -365.46 -10.33  3187.98  4.37 -32.66 -224.58 -2022.36 -153.94   12   \n",
       "\n",
       "   ...       F15      F16  Target  F5_Low  F5_Medium  F5_Very high  \\\n",
       "0  ...    169.26     1.64  999.41       1          0             0   \n",
       "1  ...   6259.05     0.08    0.00       1          0             0   \n",
       "2  ...  38504.82     6.40  266.29       0          1             0   \n",
       "3  ...  20883.90    21.98  598.77       1          0             0   \n",
       "4  ...  12095.91  2167.48  396.90       0          0             0   \n",
       "\n",
       "   F5_Very low  F6_Rest  F6_UK  F6_USA  \n",
       "0            0        0      0       0  \n",
       "1            0        1      0       0  \n",
       "2            0        0      1       0  \n",
       "3            0        0      1       0  \n",
       "4            0        0      0       1  \n",
       "\n",
       "[5 rows x 22 columns]"
      ]
     },
     "execution_count": 9,
     "metadata": {},
     "output_type": "execute_result"
    }
   ],
   "source": [
    "df_p3_New.head()"
   ]
  },
  {
   "cell_type": "code",
   "execution_count": 10,
   "id": "47e5baba",
   "metadata": {},
   "outputs": [
    {
     "data": {
      "text/plain": [
       "<matplotlib.collections.PathCollection at 0x2c2571ef308>"
      ]
     },
     "execution_count": 10,
     "metadata": {},
     "output_type": "execute_result"
    },
    {
     "data": {
      "image/png": "[encoded data removed]",
      "text/plain": [
       "<Figure size 432x288 with 1 Axes>"
      ]
     },
     "metadata": {
      "needs_background": "light"
     },
     "output_type": "display_data"
    }
   ],
   "source": [
    "plt.scatter(df_p3_New.F9, df_p3_New.Target)"
   ]
  },
  {
   "cell_type": "code",
   "execution_count": 11,
   "id": "821d7257",
   "metadata": {},
   "outputs": [
    {
     "name": "stdout",
     "output_type": "stream",
     "text": [
      "      F1      F2     F3       F4    F7     F8      F9      F10     F11  F12  \\\n",
      "0  11.85 -258.09  -6.95  2557.29  7.59 -28.22 -259.22 -1578.12 -141.76    9   \n",
      "1  11.99 -169.71 -16.06  2862.87  2.57 -13.76 -321.80 -1914.16 -165.83    6   \n",
      "2   3.48 -317.76  -8.14  2175.81  1.60 -32.76 -253.54   457.12 -203.87   15   \n",
      "3  14.75 -394.26  -5.61  1927.86  7.33 -13.42 -149.86 -1972.04 -145.52    6   \n",
      "4  10.25 -365.46 -10.33  3187.98  4.37 -32.66 -224.58 -2022.36 -153.94   12   \n",
      "\n",
      "   ...    F14       F15      F16  F5_Low  F5_Medium  F5_Very high  \\\n",
      "0  ...  20.19    169.26     1.64       1          0             0   \n",
      "1  ...   9.51   6259.05     0.08       1          0             0   \n",
      "2  ...   7.02  38504.82     6.40       0          1             0   \n",
      "3  ...  33.99  20883.90    21.98       1          0             0   \n",
      "4  ...   4.29  12095.91  2167.48       0          0             0   \n",
      "\n",
      "   F5_Very low  F6_Rest  F6_UK  F6_USA  \n",
      "0            0        0      0       0  \n",
      "1            0        1      0       0  \n",
      "2            0        0      1       0  \n",
      "3            0        0      1       0  \n",
      "4            0        0      0       1  \n",
      "\n",
      "[5 rows x 21 columns]\n",
      "0    999.41\n",
      "1      0.00\n",
      "2    266.29\n",
      "3    598.77\n",
      "4    396.90\n",
      "Name: Target, dtype: float64\n"
     ]
    }
   ],
   "source": [
    "# Seperating input and target variable from df_p3_New dataset\n",
    "df_p3_New_features=df_p3_New.drop(['Target'],axis=1)\n",
    "df_p3_New_outcome=df_p3_New['Target']\n",
    "print(df_p3_New_features.head())\n",
    "print(df_p3_New_outcome.head())"
   ]
  },
  {
   "cell_type": "code",
   "execution_count": 12,
   "id": "2b839efe",
   "metadata": {},
   "outputs": [],
   "source": [
    "# Splitting the data into training and test\n",
    "from sklearn import linear_model, metrics\n",
    "from sklearn.model_selection import train_test_split\n",
    "X_train, X_test, y_train, y_test = train_test_split(df_p3_New_features, df_p3_New_outcome, test_size=0.2,random_state=42)"
   ]
  },
  {
   "cell_type": "code",
   "execution_count": 24,
   "id": "9cb2257e",
   "metadata": {},
   "outputs": [],
   "source": [
    "# Reading the dataset into a dataframe df_p3_test\n",
    "df_p3_test=pd.read_csv(\"D:\\Lab_Work\\CE802_Assignment2\\CE802_P3_Data\\CE802_P3_Test.csv\")"
   ]
  },
  {
   "cell_type": "code",
   "execution_count": 25,
   "id": "0d2d45c4",
   "metadata": {},
   "outputs": [
    {
     "data": {
      "text/html": [
       "<div>\n",
       "<style scoped>\n",
       "    .dataframe tbody tr th:only-of-type {\n",
       "        vertical-align: middle;\n",
       "    }\n",
       "\n",
       "    .dataframe tbody tr th {\n",
       "        vertical-align: top;\n",
       "    }\n",
       "\n",
       "    .dataframe thead th {\n",
       "        text-align: right;\n",
       "    }\n",
       "</style>\n",
       "<table border=\"1\" class=\"dataframe\">\n",
       "  <thead>\n",
       "    <tr style=\"text-align: right;\">\n",
       "      <th></th>\n",
       "      <th>F1</th>\n",
       "      <th>F2</th>\n",
       "      <th>F3</th>\n",
       "      <th>F4</th>\n",
       "      <th>F5</th>\n",
       "      <th>F6</th>\n",
       "      <th>F7</th>\n",
       "      <th>F8</th>\n",
       "      <th>F9</th>\n",
       "      <th>F10</th>\n",
       "      <th>F11</th>\n",
       "      <th>F12</th>\n",
       "      <th>F13</th>\n",
       "      <th>F14</th>\n",
       "      <th>F15</th>\n",
       "      <th>F16</th>\n",
       "      <th>Target</th>\n",
       "    </tr>\n",
       "  </thead>\n",
       "  <tbody>\n",
       "    <tr>\n",
       "      <th>0</th>\n",
       "      <td>11.23</td>\n",
       "      <td>-195.54</td>\n",
       "      <td>-1.19</td>\n",
       "      <td>1468.56</td>\n",
       "      <td>Very high</td>\n",
       "      <td>USA</td>\n",
       "      <td>8.97</td>\n",
       "      <td>-23.62</td>\n",
       "      <td>-249.36</td>\n",
       "      <td>-854.18</td>\n",
       "      <td>-155.20</td>\n",
       "      <td>12</td>\n",
       "      <td>10</td>\n",
       "      <td>12.39</td>\n",
       "      <td>-3480.87</td>\n",
       "      <td>0.04</td>\n",
       "      <td>NaN</td>\n",
       "    </tr>\n",
       "    <tr>\n",
       "      <th>1</th>\n",
       "      <td>14.89</td>\n",
       "      <td>-426.24</td>\n",
       "      <td>-1.18</td>\n",
       "      <td>3049.08</td>\n",
       "      <td>Very high</td>\n",
       "      <td>USA</td>\n",
       "      <td>6.33</td>\n",
       "      <td>-39.26</td>\n",
       "      <td>-226.26</td>\n",
       "      <td>-2126.68</td>\n",
       "      <td>-159.42</td>\n",
       "      <td>9</td>\n",
       "      <td>8</td>\n",
       "      <td>5.19</td>\n",
       "      <td>8831.19</td>\n",
       "      <td>43.68</td>\n",
       "      <td>NaN</td>\n",
       "    </tr>\n",
       "    <tr>\n",
       "      <th>2</th>\n",
       "      <td>6.76</td>\n",
       "      <td>-493.47</td>\n",
       "      <td>-13.55</td>\n",
       "      <td>3197.13</td>\n",
       "      <td>Very low</td>\n",
       "      <td>USA</td>\n",
       "      <td>1.77</td>\n",
       "      <td>-25.84</td>\n",
       "      <td>-238.30</td>\n",
       "      <td>-2270.78</td>\n",
       "      <td>-212.73</td>\n",
       "      <td>12</td>\n",
       "      <td>10</td>\n",
       "      <td>3.30</td>\n",
       "      <td>-4468.44</td>\n",
       "      <td>0.52</td>\n",
       "      <td>NaN</td>\n",
       "    </tr>\n",
       "    <tr>\n",
       "      <th>3</th>\n",
       "      <td>15.12</td>\n",
       "      <td>-320.04</td>\n",
       "      <td>-12.17</td>\n",
       "      <td>2436.00</td>\n",
       "      <td>Very low</td>\n",
       "      <td>Rest</td>\n",
       "      <td>5.42</td>\n",
       "      <td>-17.32</td>\n",
       "      <td>-203.64</td>\n",
       "      <td>-304.24</td>\n",
       "      <td>-100.34</td>\n",
       "      <td>18</td>\n",
       "      <td>12</td>\n",
       "      <td>6.51</td>\n",
       "      <td>22851.60</td>\n",
       "      <td>758.54</td>\n",
       "      <td>NaN</td>\n",
       "    </tr>\n",
       "    <tr>\n",
       "      <th>4</th>\n",
       "      <td>10.12</td>\n",
       "      <td>-387.99</td>\n",
       "      <td>-7.11</td>\n",
       "      <td>2800.89</td>\n",
       "      <td>Very low</td>\n",
       "      <td>Europe</td>\n",
       "      <td>1.39</td>\n",
       "      <td>-12.78</td>\n",
       "      <td>-265.16</td>\n",
       "      <td>-1419.76</td>\n",
       "      <td>-137.49</td>\n",
       "      <td>0</td>\n",
       "      <td>14</td>\n",
       "      <td>14.22</td>\n",
       "      <td>24396.09</td>\n",
       "      <td>0.68</td>\n",
       "      <td>NaN</td>\n",
       "    </tr>\n",
       "  </tbody>\n",
       "</table>\n",
       "</div>"
      ],
      "text/plain": [
       "      F1      F2     F3       F4         F5      F6    F7     F8      F9  \\\n",
       "0  11.23 -195.54  -1.19  1468.56  Very high     USA  8.97 -23.62 -249.36   \n",
       "1  14.89 -426.24  -1.18  3049.08  Very high     USA  6.33 -39.26 -226.26   \n",
       "2   6.76 -493.47 -13.55  3197.13   Very low     USA  1.77 -25.84 -238.30   \n",
       "3  15.12 -320.04 -12.17  2436.00   Very low    Rest  5.42 -17.32 -203.64   \n",
       "4  10.12 -387.99  -7.11  2800.89   Very low  Europe  1.39 -12.78 -265.16   \n",
       "\n",
       "       F10     F11  F12  F13    F14       F15     F16  Target  \n",
       "0  -854.18 -155.20   12   10  12.39  -3480.87    0.04     NaN  \n",
       "1 -2126.68 -159.42    9    8   5.19   8831.19   43.68     NaN  \n",
       "2 -2270.78 -212.73   12   10   3.30  -4468.44    0.52     NaN  \n",
       "3  -304.24 -100.34   18   12   6.51  22851.60  758.54     NaN  \n",
       "4 -1419.76 -137.49    0   14  14.22  24396.09    0.68     NaN  "
      ]
     },
     "execution_count": 25,
     "metadata": {},
     "output_type": "execute_result"
    }
   ],
   "source": [
    "df_p3_test.head()"
   ]
  },
  {
   "cell_type": "code",
   "execution_count": 26,
   "id": "1dd2126e",
   "metadata": {},
   "outputs": [],
   "source": [
    "# Encoding variables F5 and F6 since they are catogorical variables.\n",
    "X_enc = df_p3_test[['F5','F6']]\n",
    "X_enc = pd.get_dummies(data=X_enc, drop_first=True)"
   ]
  },
  {
   "cell_type": "code",
   "execution_count": 29,
   "id": "db94193b",
   "metadata": {},
   "outputs": [],
   "source": [
    "df_p3_test_New = pd.concat([df_p3_test,X_enc],axis=1)\n",
    "df_p3_test_New = df_p3_test_New.drop(['F5'], axis = 1)\n",
    "df_p3_test_New = df_p3_test_New.drop(['F6'], axis = 1)"
   ]
  },
  {
   "cell_type": "code",
   "execution_count": 30,
   "id": "e5e95585",
   "metadata": {},
   "outputs": [
    {
     "data": {
      "text/html": [
       "<div>\n",
       "<style scoped>\n",
       "    .dataframe tbody tr th:only-of-type {\n",
       "        vertical-align: middle;\n",
       "    }\n",
       "\n",
       "    .dataframe tbody tr th {\n",
       "        vertical-align: top;\n",
       "    }\n",
       "\n",
       "    .dataframe thead th {\n",
       "        text-align: right;\n",
       "    }\n",
       "</style>\n",
       "<table border=\"1\" class=\"dataframe\">\n",
       "  <thead>\n",
       "    <tr style=\"text-align: right;\">\n",
       "      <th></th>\n",
       "      <th>F1</th>\n",
       "      <th>F2</th>\n",
       "      <th>F3</th>\n",
       "      <th>F4</th>\n",
       "      <th>F7</th>\n",
       "      <th>F8</th>\n",
       "      <th>F9</th>\n",
       "      <th>F10</th>\n",
       "      <th>F11</th>\n",
       "      <th>F12</th>\n",
       "      <th>...</th>\n",
       "      <th>F15</th>\n",
       "      <th>F16</th>\n",
       "      <th>Target</th>\n",
       "      <th>F5_Low</th>\n",
       "      <th>F5_Medium</th>\n",
       "      <th>F5_Very high</th>\n",
       "      <th>F5_Very low</th>\n",
       "      <th>F6_Rest</th>\n",
       "      <th>F6_UK</th>\n",
       "      <th>F6_USA</th>\n",
       "    </tr>\n",
       "  </thead>\n",
       "  <tbody>\n",
       "    <tr>\n",
       "      <th>0</th>\n",
       "      <td>11.23</td>\n",
       "      <td>-195.54</td>\n",
       "      <td>-1.19</td>\n",
       "      <td>1468.56</td>\n",
       "      <td>8.97</td>\n",
       "      <td>-23.62</td>\n",
       "      <td>-249.36</td>\n",
       "      <td>-854.18</td>\n",
       "      <td>-155.20</td>\n",
       "      <td>12</td>\n",
       "      <td>...</td>\n",
       "      <td>-3480.87</td>\n",
       "      <td>0.04</td>\n",
       "      <td>NaN</td>\n",
       "      <td>0</td>\n",
       "      <td>0</td>\n",
       "      <td>1</td>\n",
       "      <td>0</td>\n",
       "      <td>0</td>\n",
       "      <td>0</td>\n",
       "      <td>1</td>\n",
       "    </tr>\n",
       "    <tr>\n",
       "      <th>1</th>\n",
       "      <td>14.89</td>\n",
       "      <td>-426.24</td>\n",
       "      <td>-1.18</td>\n",
       "      <td>3049.08</td>\n",
       "      <td>6.33</td>\n",
       "      <td>-39.26</td>\n",
       "      <td>-226.26</td>\n",
       "      <td>-2126.68</td>\n",
       "      <td>-159.42</td>\n",
       "      <td>9</td>\n",
       "      <td>...</td>\n",
       "      <td>8831.19</td>\n",
       "      <td>43.68</td>\n",
       "      <td>NaN</td>\n",
       "      <td>0</td>\n",
       "      <td>0</td>\n",
       "      <td>1</td>\n",
       "      <td>0</td>\n",
       "      <td>0</td>\n",
       "      <td>0</td>\n",
       "      <td>1</td>\n",
       "    </tr>\n",
       "    <tr>\n",
       "      <th>2</th>\n",
       "      <td>6.76</td>\n",
       "      <td>-493.47</td>\n",
       "      <td>-13.55</td>\n",
       "      <td>3197.13</td>\n",
       "      <td>1.77</td>\n",
       "      <td>-25.84</td>\n",
       "      <td>-238.30</td>\n",
       "      <td>-2270.78</td>\n",
       "      <td>-212.73</td>\n",
       "      <td>12</td>\n",
       "      <td>...</td>\n",
       "      <td>-4468.44</td>\n",
       "      <td>0.52</td>\n",
       "      <td>NaN</td>\n",
       "      <td>0</td>\n",
       "      <td>0</td>\n",
       "      <td>0</td>\n",
       "      <td>1</td>\n",
       "      <td>0</td>\n",
       "      <td>0</td>\n",
       "      <td>1</td>\n",
       "    </tr>\n",
       "    <tr>\n",
       "      <th>3</th>\n",
       "      <td>15.12</td>\n",
       "      <td>-320.04</td>\n",
       "      <td>-12.17</td>\n",
       "      <td>2436.00</td>\n",
       "      <td>5.42</td>\n",
       "      <td>-17.32</td>\n",
       "      <td>-203.64</td>\n",
       "      <td>-304.24</td>\n",
       "      <td>-100.34</td>\n",
       "      <td>18</td>\n",
       "      <td>...</td>\n",
       "      <td>22851.60</td>\n",
       "      <td>758.54</td>\n",
       "      <td>NaN</td>\n",
       "      <td>0</td>\n",
       "      <td>0</td>\n",
       "      <td>0</td>\n",
       "      <td>1</td>\n",
       "      <td>1</td>\n",
       "      <td>0</td>\n",
       "      <td>0</td>\n",
       "    </tr>\n",
       "    <tr>\n",
       "      <th>4</th>\n",
       "      <td>10.12</td>\n",
       "      <td>-387.99</td>\n",
       "      <td>-7.11</td>\n",
       "      <td>2800.89</td>\n",
       "      <td>1.39</td>\n",
       "      <td>-12.78</td>\n",
       "      <td>-265.16</td>\n",
       "      <td>-1419.76</td>\n",
       "      <td>-137.49</td>\n",
       "      <td>0</td>\n",
       "      <td>...</td>\n",
       "      <td>24396.09</td>\n",
       "      <td>0.68</td>\n",
       "      <td>NaN</td>\n",
       "      <td>0</td>\n",
       "      <td>0</td>\n",
       "      <td>0</td>\n",
       "      <td>1</td>\n",
       "      <td>0</td>\n",
       "      <td>0</td>\n",
       "      <td>0</td>\n",
       "    </tr>\n",
       "  </tbody>\n",
       "</table>\n",
       "<p>5 rows × 22 columns</p>\n",
       "</div>"
      ],
      "text/plain": [
       "      F1      F2     F3       F4    F7     F8      F9      F10     F11  F12  \\\n",
       "0  11.23 -195.54  -1.19  1468.56  8.97 -23.62 -249.36  -854.18 -155.20   12   \n",
       "1  14.89 -426.24  -1.18  3049.08  6.33 -39.26 -226.26 -2126.68 -159.42    9   \n",
       "2   6.76 -493.47 -13.55  3197.13  1.77 -25.84 -238.30 -2270.78 -212.73   12   \n",
       "3  15.12 -320.04 -12.17  2436.00  5.42 -17.32 -203.64  -304.24 -100.34   18   \n",
       "4  10.12 -387.99  -7.11  2800.89  1.39 -12.78 -265.16 -1419.76 -137.49    0   \n",
       "\n",
       "   ...       F15     F16  Target  F5_Low  F5_Medium  F5_Very high  \\\n",
       "0  ...  -3480.87    0.04     NaN       0          0             1   \n",
       "1  ...   8831.19   43.68     NaN       0          0             1   \n",
       "2  ...  -4468.44    0.52     NaN       0          0             0   \n",
       "3  ...  22851.60  758.54     NaN       0          0             0   \n",
       "4  ...  24396.09    0.68     NaN       0          0             0   \n",
       "\n",
       "   F5_Very low  F6_Rest  F6_UK  F6_USA  \n",
       "0            0        0      0       1  \n",
       "1            0        0      0       1  \n",
       "2            1        0      0       1  \n",
       "3            1        1      0       0  \n",
       "4            1        0      0       0  \n",
       "\n",
       "[5 rows x 22 columns]"
      ]
     },
     "execution_count": 30,
     "metadata": {},
     "output_type": "execute_result"
    }
   ],
   "source": [
    "df_p3_test_New.head()"
   ]
  },
  {
   "cell_type": "code",
   "execution_count": 31,
   "id": "9eb6d094",
   "metadata": {},
   "outputs": [
    {
     "name": "stdout",
     "output_type": "stream",
     "text": [
      "      F1      F2     F3       F4    F7     F8      F9      F10     F11  F12  \\\n",
      "0  11.23 -195.54  -1.19  1468.56  8.97 -23.62 -249.36  -854.18 -155.20   12   \n",
      "1  14.89 -426.24  -1.18  3049.08  6.33 -39.26 -226.26 -2126.68 -159.42    9   \n",
      "2   6.76 -493.47 -13.55  3197.13  1.77 -25.84 -238.30 -2270.78 -212.73   12   \n",
      "3  15.12 -320.04 -12.17  2436.00  5.42 -17.32 -203.64  -304.24 -100.34   18   \n",
      "4  10.12 -387.99  -7.11  2800.89  1.39 -12.78 -265.16 -1419.76 -137.49    0   \n",
      "\n",
      "   ...    F14       F15     F16  F5_Low  F5_Medium  F5_Very high  F5_Very low  \\\n",
      "0  ...  12.39  -3480.87    0.04       0          0             1            0   \n",
      "1  ...   5.19   8831.19   43.68       0          0             1            0   \n",
      "2  ...   3.30  -4468.44    0.52       0          0             0            1   \n",
      "3  ...   6.51  22851.60  758.54       0          0             0            1   \n",
      "4  ...  14.22  24396.09    0.68       0          0             0            1   \n",
      "\n",
      "   F6_Rest  F6_UK  F6_USA  \n",
      "0        0      0       1  \n",
      "1        0      0       1  \n",
      "2        0      0       1  \n",
      "3        1      0       0  \n",
      "4        0      0       0  \n",
      "\n",
      "[5 rows x 21 columns]\n",
      "0   NaN\n",
      "1   NaN\n",
      "2   NaN\n",
      "3   NaN\n",
      "4   NaN\n",
      "Name: Target, dtype: float64\n"
     ]
    }
   ],
   "source": [
    "# Seperating input and target variable from df_p3_test_New dataset\n",
    "df_p3_test_New_features=df_p3_test_New.drop(['Target'],axis=1)\n",
    "df_p3_test_New_outcome=df_p3_test_New['Target']\n",
    "print(df_p3_test_New_features.head())\n",
    "print(df_p3_test_New_outcome.head())"
   ]
  },
  {
   "cell_type": "markdown",
   "id": "fa8f9d71",
   "metadata": {},
   "source": [
    "# Linear Regression Model"
   ]
  },
  {
   "cell_type": "code",
   "execution_count": 45,
   "id": "0d526fcf",
   "metadata": {},
   "outputs": [
    {
     "data": {
      "text/plain": [
       "LinearRegression()"
      ]
     },
     "execution_count": 45,
     "metadata": {},
     "output_type": "execute_result"
    }
   ],
   "source": [
    "lm_reg_model = linear_model.LinearRegression()\n",
    "lm_reg_model.fit(X_train, y_train)"
   ]
  },
  {
   "cell_type": "code",
   "execution_count": 46,
   "id": "3d8ec79a",
   "metadata": {},
   "outputs": [
    {
     "data": {
      "text/plain": [
       "array([ 1.06675099e+03,  6.69661728e+02,  7.73108275e+02,  2.02130543e+03,\n",
       "        7.17748381e+02, -3.34521175e+02,  9.15159260e+02,  2.13572693e+03,\n",
       "        1.54446959e+03,  3.17677521e+03,  1.31890157e+03,  1.78312797e+03,\n",
       "        3.51728999e+02,  6.58140006e+02,  8.01016588e+02,  2.08285246e+01,\n",
       "        5.76422084e+02,  1.27457169e+03,  1.66158005e+03,  3.74941401e+02,\n",
       "        1.87398467e+03, -6.21384283e+00,  2.03992236e+03,  6.07380989e+02,\n",
       "        4.12784053e+03,  5.65632783e+02,  2.06551870e+03,  2.91813848e+02,\n",
       "        1.63504106e+03,  1.91103687e+03,  1.49582982e+03,  9.76273530e+02,\n",
       "        4.36491074e+02, -2.01452930e+02,  8.64748114e+02,  4.80029084e+02,\n",
       "       -6.78050705e+01,  3.31344667e+03,  3.74710724e+02,  6.71829455e+02,\n",
       "        1.31155664e+02,  2.26227219e+03, -2.59556677e+01,  8.71184155e+02,\n",
       "        8.46990864e+02,  1.19975605e+03,  1.41762101e+03,  5.13420554e+02,\n",
       "        1.67486971e+02,  1.87754195e+03,  1.50963928e+03,  1.67513656e+03,\n",
       "        2.73814449e+03, -8.09324026e+01,  1.70352963e+03,  6.91895716e+02,\n",
       "        2.33618905e+03,  5.80974589e+02,  1.72654696e+03,  1.51371409e+02,\n",
       "        2.03788314e+03,  4.86441226e+02,  3.83216287e+02,  8.60690983e+02,\n",
       "        9.49293833e+02,  1.43065766e+03, -1.51517755e+03, -1.04782255e+03,\n",
       "        2.41617277e+03,  2.73642975e+03,  9.70857933e+02,  2.78860227e+03,\n",
       "        1.52654336e+03, -4.66214829e+01, -2.31671132e+02,  1.80807027e+02,\n",
       "        1.10464461e+02,  4.44482725e+02,  2.03334730e+02, -4.91434331e+01,\n",
       "        2.29232923e+03, -3.79546289e+02,  1.48061802e+03, -4.30358967e+02,\n",
       "        5.32073775e+02,  8.59955496e+02,  8.33008320e+02,  1.61804692e+03,\n",
       "        9.34598656e+02, -7.52394000e+02,  2.40119180e+03,  1.07268440e+03,\n",
       "        2.44054804e+02,  3.15524714e+01,  5.68663995e+02,  6.01380429e+02,\n",
       "       -5.33745761e+02,  7.80290840e+01,  1.52573671e+03,  8.07710359e+02,\n",
       "       -2.35046479e+02,  3.28157773e+03, -1.53701714e+03,  1.40937057e+03,\n",
       "        2.63942616e+03, -4.36087931e+02, -3.05533669e+02,  5.36382059e+02,\n",
       "        1.93294065e+02,  6.43499774e+01, -2.54262237e+02,  1.61840292e+03,\n",
       "        1.25515879e+03, -1.06289441e+03,  6.67695161e+02,  7.33625821e+02,\n",
       "       -1.19306056e+03,  7.25076837e+01,  7.54676445e+02,  9.80240169e+02,\n",
       "        3.36270439e+03,  4.01111065e+02, -2.01941006e+02,  8.34282917e+02,\n",
       "        3.07197390e+03, -1.04949977e+01,  2.54970664e+02,  1.88260394e+03,\n",
       "        3.20707709e+03, -5.07946608e+01,  6.63249793e+02,  9.78127859e+02,\n",
       "       -7.77876026e+02,  1.28870061e+03,  5.35564005e+00,  1.57355847e+03,\n",
       "        1.93791906e+03,  1.48469974e+03,  2.67028275e+03,  1.59780725e+03,\n",
       "        1.17240123e+03,  3.57782165e+02,  1.07719055e+03, -1.26794620e+03,\n",
       "        5.95698672e+02,  2.19178948e+03, -5.25468690e+02,  2.94943260e+03,\n",
       "        5.73238925e+01,  1.75339242e+03,  4.53222201e+02,  1.63288133e+03,\n",
       "        1.03159476e+03,  1.17881596e+03,  1.27774112e+03,  8.51954724e+02,\n",
       "        1.05107326e+03,  4.24094691e+02, -1.20928252e+01,  8.74892082e+02,\n",
       "        3.24867620e+02,  2.02080412e+03,  8.86928439e+02,  1.57837623e+02,\n",
       "        8.93905378e+02,  1.46076631e+03,  5.57430301e+02, -8.45463341e+02,\n",
       "        1.42004789e+03,  1.04657603e+03,  2.17488083e+02,  8.40658605e+02,\n",
       "        1.82244402e+03,  1.13501006e+03,  1.55579974e+03,  2.42992391e+03,\n",
       "        1.32627065e+03,  8.32618875e+02,  1.67117936e+03,  2.01351732e+03,\n",
       "        1.83458439e+03,  1.00560565e+03,  2.48240497e+02,  1.32236171e+03,\n",
       "        1.40395724e+03,  1.68620222e+03,  1.97902244e+03,  1.11242432e+03,\n",
       "        1.98671471e+02,  6.72898612e+02,  4.17600916e+02, -3.61084047e+02,\n",
       "        2.05468762e+03,  1.72544649e+03,  1.10887121e+03,  2.77725464e+03,\n",
       "        1.75990090e+03,  1.93460795e+02,  1.46876357e+02,  7.70285124e+02,\n",
       "        2.24064351e+02,  4.30207592e+02,  7.15539387e+02,  2.34667665e+03,\n",
       "        8.54127900e+02, -3.56370329e+02,  5.25087188e+02,  3.10891723e+02,\n",
       "        4.86260442e+02,  7.11433939e+02,  3.31139292e+02,  6.38510354e+02,\n",
       "        2.03143349e+03,  1.59858751e+03,  2.48588350e+03,  9.22727413e+02,\n",
       "        2.38785954e+02,  1.58855764e+03,  5.02614307e+02,  7.82964641e+02,\n",
       "        4.90863686e+02, -2.53692706e+02,  6.41382365e+02,  9.05278183e+02,\n",
       "        3.35414576e+02,  2.63168991e+02, -1.69492625e+01,  7.58821274e+02,\n",
       "        3.94649731e+02,  1.08076027e+03,  5.42134037e+02,  4.18827699e+02,\n",
       "        3.06114478e+02,  2.74991794e+02, -3.14877191e+02,  1.36000898e+03,\n",
       "        5.09133431e+02,  9.55724566e+02,  2.49491893e+01,  2.36695118e+01,\n",
       "        3.29834109e+02,  2.21052475e+03,  1.07464845e+03, -5.59059637e+02,\n",
       "        4.14784686e+02,  1.80128609e+02,  5.42681962e+02,  8.25925233e+02,\n",
       "        5.67522531e+02,  3.97783702e+02,  4.97181134e+02,  3.37246250e+02,\n",
       "       -8.72222663e+02,  1.50259769e+03,  2.55857905e+03,  1.79638077e+03,\n",
       "        1.25287043e+03,  1.29135725e+03,  1.37065682e+03,  1.25427577e+02,\n",
       "        1.72827788e+03,  5.63757128e+02,  2.02653528e+03,  1.51774189e+03,\n",
       "        1.04150377e+03,  5.11687793e+02,  1.09838833e+03,  7.49401751e+02,\n",
       "        1.60513279e+03,  8.36596674e+02,  9.56421119e+02,  5.20119025e+02,\n",
       "        8.98740734e+02,  6.32508581e+02,  1.67385069e+03, -5.28356143e+02,\n",
       "        8.62574210e+02, -8.23075335e+01,  1.27025150e+03, -3.86988983e+00,\n",
       "        1.88717624e+03,  1.67879682e+03, -5.82634627e+02,  5.15584457e+02,\n",
       "        4.74681247e+02,  2.95715636e+02, -3.47346171e+02,  1.73724767e+03,\n",
       "        4.97900129e+02,  9.70937631e+02,  1.67804860e+01,  1.23015171e+03,\n",
       "        8.29105364e+02, -1.52049002e+03, -3.72765890e+02,  9.26609951e+02,\n",
       "        9.52004556e+02,  9.07003929e+02,  8.08967361e+02,  2.64944177e+03])"
      ]
     },
     "execution_count": 46,
     "metadata": {},
     "output_type": "execute_result"
    }
   ],
   "source": [
    "#predictions on test set\n",
    "lm_reg_pred = lm_reg_model.predict(X_test)\n",
    "lm_reg_pred"
   ]
  },
  {
   "cell_type": "code",
   "execution_count": 47,
   "id": "a9c5a434",
   "metadata": {},
   "outputs": [
    {
     "name": "stderr",
     "output_type": "stream",
     "text": [
      "C:\\Users\\dushyanth\\miniconda3\\envs\\ce802\\lib\\site-packages\\seaborn\\_decorators.py:43: FutureWarning: Pass the following variables as keyword args: x, y. From version 0.12, the only valid positional argument will be `data`, and passing other arguments without an explicit keyword will result in an error or misinterpretation.\n",
      "  FutureWarning\n"
     ]
    },
    {
     "data": {
      "text/plain": [
       "<AxesSubplot:xlabel='Target'>"
      ]
     },
     "execution_count": 47,
     "metadata": {},
     "output_type": "execute_result"
    },
    {
     "data": {
      "image/png": "[encoded data removed]",
      "text/plain": [
       "<Figure size 432x288 with 1 Axes>"
      ]
     },
     "metadata": {
      "needs_background": "light"
     },
     "output_type": "display_data"
    }
   ],
   "source": [
    "sns.regplot(y_test,lm_reg_pred)"
   ]
  },
  {
   "cell_type": "code",
   "execution_count": 62,
   "id": "9d62aa2a",
   "metadata": {},
   "outputs": [],
   "source": [
    "lm_predictions = lm_reg_model.predict(df_p3_test_New_features)"
   ]
  },
  {
   "cell_type": "code",
   "execution_count": 50,
   "id": "a5aa741a",
   "metadata": {},
   "outputs": [
    {
     "data": {
      "text/plain": [
       "219483.52569672914"
      ]
     },
     "execution_count": 50,
     "metadata": {},
     "output_type": "execute_result"
    }
   ],
   "source": [
    "metrics.mean_squared_error(y_test, lm_reg_pred)"
   ]
  },
  {
   "cell_type": "markdown",
   "id": "aabfb131",
   "metadata": {},
   "source": [
    "# Random Forest Regression using grid search CV"
   ]
  },
  {
   "cell_type": "code",
   "execution_count": 37,
   "id": "611a0138",
   "metadata": {},
   "outputs": [],
   "source": [
    "#Random Forest Regression using grid search CV \n",
    "from sklearn.model_selection import GridSearchCV\n",
    "from sklearn.ensemble import RandomForestRegressor\n",
    "from sklearn import metrics\n",
    "param_grid = {'bootstrap': [True],\n",
    "              'max_depth': [50, 70, 90, 120],\n",
    "              'max_features':[2, 3, 4],\n",
    "              'min_samples_leaf': [4, 5, 6],\n",
    "              'n_estimators': [100,200,300,500]}\n",
    "rf_reg = RandomForestRegressor()\n",
    "grid_search = GridSearchCV(estimator = rf_reg, param_grid = param_grid, cv=3, n_jobs = -1, verbose = 2)"
   ]
  },
  {
   "cell_type": "code",
   "execution_count": 16,
   "id": "5dae3c9a",
   "metadata": {},
   "outputs": [
    {
     "name": "stdout",
     "output_type": "stream",
     "text": [
      "Fitting 3 folds for each of 144 candidates, totalling 432 fits\n"
     ]
    },
    {
     "name": "stderr",
     "output_type": "stream",
     "text": [
      "[Parallel(n_jobs=-1)]: Using backend LokyBackend with 8 concurrent workers.\n",
      "[Parallel(n_jobs=-1)]: Done  25 tasks      | elapsed:    4.1s\n",
      "[Parallel(n_jobs=-1)]: Done 146 tasks      | elapsed:   14.8s\n",
      "[Parallel(n_jobs=-1)]: Done 349 tasks      | elapsed:   38.7s\n",
      "[Parallel(n_jobs=-1)]: Done 432 out of 432 | elapsed:   50.1s finished\n"
     ]
    },
    {
     "data": {
      "text/plain": [
       "GridSearchCV(cv=3, estimator=RandomForestRegressor(), n_jobs=-1,\n",
       "             param_grid={'bootstrap': [True], 'max_depth': [50, 70, 90, 120],\n",
       "                         'max_features': [2, 3, 4],\n",
       "                         'min_samples_leaf': [4, 5, 6],\n",
       "                         'n_estimators': [100, 200, 300, 500]},\n",
       "             verbose=2)"
      ]
     },
     "execution_count": 16,
     "metadata": {},
     "output_type": "execute_result"
    }
   ],
   "source": [
    "grid_search.fit(X_train, y_train)"
   ]
  },
  {
   "cell_type": "code",
   "execution_count": 18,
   "id": "1306266c",
   "metadata": {},
   "outputs": [
    {
     "name": "stdout",
     "output_type": "stream",
     "text": [
      "RandomForestRegressor(max_depth=50, max_features=4, min_samples_leaf=4,\n",
      "                      n_estimators=500)\n"
     ]
    }
   ],
   "source": [
    "print(grid_search.best_estimator_)"
   ]
  },
  {
   "cell_type": "code",
   "execution_count": 33,
   "id": "f36691a8",
   "metadata": {},
   "outputs": [
    {
     "data": {
      "text/plain": [
       "RandomForestRegressor(max_depth=50, max_features=4, min_samples_leaf=4,\n",
       "                      n_estimators=500, random_state=10)"
      ]
     },
     "execution_count": 33,
     "metadata": {},
     "output_type": "execute_result"
    }
   ],
   "source": [
    "best_rf_regcv = RandomForestRegressor(max_depth=50, max_features=4, min_samples_leaf=4, n_estimators=500, random_state=10)\n",
    "best_rf_regcv.fit(X_train, y_train)"
   ]
  },
  {
   "cell_type": "code",
   "execution_count": 42,
   "id": "abb6c9a9",
   "metadata": {},
   "outputs": [
    {
     "data": {
      "text/plain": [
       "array([1117.79684746, 1068.96009138,  516.77306245, 1576.36172187,\n",
       "       1061.6188956 ,  251.84338712, 1049.57005354, 2080.93582687,\n",
       "       1552.44544968, 1881.0704386 , 1040.11962534, 1472.30875093,\n",
       "        571.50455483, 1056.54315196,  372.38432412,  269.31782525,\n",
       "        518.53120339, 1402.38120838, 1343.82434682,  507.42419631,\n",
       "       1827.28747737,  388.40233076, 1893.93412173,  671.90121425,\n",
       "       2752.20745763,  682.69995607, 1434.16897709,  393.22264845,\n",
       "       1483.33065723, 1890.78358798, 1188.8350713 ,  485.44514491,\n",
       "        829.07053311,  355.69943682,  811.42983632,  622.52815126,\n",
       "        573.18905326, 1694.58445289, 1136.45802137, 1146.64272957,\n",
       "        632.1817304 , 1340.45506483,  303.8238868 ,  726.0636789 ,\n",
       "        970.26380749,  574.80913392, 1266.70797287,  397.39467591,\n",
       "        638.0167678 , 1157.51781141, 1170.90489733, 1241.06206084,\n",
       "       1863.13440506,  195.80764973, 1774.11395688, 1048.18915743,\n",
       "       1724.03328487,  688.45740995, 1708.97383562,  655.1162545 ,\n",
       "       1359.57792374,  847.13087521,  604.74634376,  539.02415916,\n",
       "        700.56461064, 1493.03598104,  109.45086634,  251.96331029,\n",
       "       2186.84048243, 1687.0181749 ,  950.75895825, 1810.83135826,\n",
       "       1194.29246027,  901.09863684,  413.01854542,  361.97021186,\n",
       "        410.19938408,  503.17606063,  401.52825606,  457.73116819,\n",
       "       1296.47903421,  207.32481835,  978.59612738,  163.28732916,\n",
       "        542.30853213,  741.15844583,  998.60659232, 1139.40736248,\n",
       "       1342.73940696,  275.8664779 , 1586.02118014, 1225.50727993,\n",
       "        280.44632839,  367.70710684,  477.62103084,  277.48504849,\n",
       "        139.8805559 ,  426.64608462, 1081.29564397, 1241.60319563,\n",
       "        313.84823987, 2879.10374823,  132.51758612, 1040.58534805,\n",
       "       2076.21887675,  365.53279471,  545.39739327,  857.68570874,\n",
       "        222.68850787,  471.99299395,  391.60014202, 1003.60273201,\n",
       "       1668.77274158,  258.93681255,  768.47472235,  323.43870021,\n",
       "        315.10905277,  339.30604977,  753.86963547, 1028.55817074,\n",
       "       2459.68742826,  509.00569178,  362.920031  , 1163.82854134,\n",
       "       2244.93057236,  439.70007141,  505.96406605, 1615.44707541,\n",
       "       2325.48628658,  832.76687511,  296.0511955 ,  509.36923133,\n",
       "        206.87475705, 1118.37707231,  606.13792362, 1258.18912384,\n",
       "       1556.21957673, 1575.34264265, 1411.12973518, 1124.07595092,\n",
       "       1086.39285352,  262.79725125,  861.84052079,  153.00128881,\n",
       "        389.56623987, 1364.27753855,  258.00370828, 2076.21515642,\n",
       "        289.46672226, 1181.54195841,  457.31214755, 1307.35533701,\n",
       "        817.21282243, 1298.62208229, 1137.27047384,  898.96701859,\n",
       "        768.41729596,  312.96647812,  116.79663695,  650.82371265,\n",
       "        507.69070623, 1518.18683606, 1025.73110226,  356.15528572,\n",
       "        577.72178293, 1189.64933776,  305.52597051,  208.61695168,\n",
       "       1671.00878926,  726.29924566,  152.96988804,  869.18520243,\n",
       "       1720.14662559,  838.68926464, 1078.34855546, 1900.80660356,\n",
       "       1173.37225417, 1012.79323555, 1264.69207456, 1270.50821508,\n",
       "       1722.71867623, 1408.80133292,  791.03174167,  991.94557054,\n",
       "       1017.63153535, 1121.36445371, 1454.73331994, 1018.85491904,\n",
       "        475.39790661,  587.72566149,  502.91780132,  528.17957456,\n",
       "       1498.56114813, 1369.3167087 ,  984.25585142, 2180.14980612,\n",
       "       1122.35798474,  325.22462614,  574.60155959,  742.12602301,\n",
       "        566.47151042,  847.29100762,  392.38858094, 2139.30230185,\n",
       "        595.79601305,  440.64623807,  930.29522307,  918.68526472,\n",
       "        539.98896778, 1058.62053217,  607.38437942,  423.37580416,\n",
       "       1965.2490404 , 1202.50198653, 1411.28377717, 1050.37113014,\n",
       "        650.030475  , 1550.58733476,  558.54499679,  772.8879535 ,\n",
       "        665.55264017,  226.46813341,  845.55508219,  853.07765181,\n",
       "        496.46285112,  322.24685282,  321.00865255, 1006.78691499,\n",
       "        348.77256894,  907.87321633,  682.8008949 ,  761.33111936,\n",
       "        743.44268753,  410.38891579,  386.4951682 , 1245.79689117,\n",
       "       1011.01240457, 1274.14806074,  325.33669754,  631.50071745,\n",
       "        395.09419679, 1671.59715542,  817.57395864,  484.92084048,\n",
       "        763.19249455,  543.43766773, 1025.95238632,  617.98849824,\n",
       "        533.91410564,  719.36141949,  371.4208814 ,  426.10735079,\n",
       "        224.48671096, 1222.15055619, 2096.50282713, 1597.64415323,\n",
       "        937.27277581, 1212.20657554, 1222.61143421,  339.30990594,\n",
       "       1427.85533744,  575.38705136, 1587.23712857, 1274.96717012,\n",
       "        726.94985953,  475.58535522, 1139.53361253, 1068.29596269,\n",
       "        974.57005762,  836.70480843,  601.64117567,  410.57613533,\n",
       "        790.67959803,  916.79941251, 1269.9273603 ,  214.02956003,\n",
       "        450.71836871,  401.85107647, 1509.22500472,  326.99170914,\n",
       "       1397.73009819, 1348.81787699,  250.66366079,  515.92543654,\n",
       "        433.0563601 ,  220.51494105,  205.7624031 , 1251.29938218,\n",
       "       1321.74034913,  570.35752327,  352.72361799, 1199.45638968,\n",
       "       1001.50422326,  118.02264455,  191.56695624,  736.41428708,\n",
       "        641.25046383,  480.71588394,  412.88773127, 2089.76788459])"
      ]
     },
     "execution_count": 42,
     "metadata": {},
     "output_type": "execute_result"
    }
   ],
   "source": [
    "pred_re_regcv = best_rf_regcv.predict(X_test)\n",
    "pred_re_regcv"
   ]
  },
  {
   "cell_type": "code",
   "execution_count": 35,
   "id": "9257e6fe",
   "metadata": {},
   "outputs": [
    {
     "data": {
      "text/plain": [
       "array([1369.69701758, 1748.7995647 , 1360.20579092, ...,   73.35497653,\n",
       "        195.49515654, 1183.66428463])"
      ]
     },
     "execution_count": 35,
     "metadata": {},
     "output_type": "execute_result"
    }
   ],
   "source": [
    "#predections on new data\n",
    "predictions_new = best_rf_regcv.predict(df_p3_test_New_features)\n",
    "predictions_new"
   ]
  },
  {
   "cell_type": "code",
   "execution_count": 43,
   "id": "bbc66bef",
   "metadata": {},
   "outputs": [
    {
     "data": {
      "text/plain": [
       "401333.8596679993"
      ]
     },
     "execution_count": 43,
     "metadata": {},
     "output_type": "execute_result"
    }
   ],
   "source": [
    "# Mean square error of the bestfit model\n",
    "metrics.mean_squared_error(y_test, pred_re_regcv)"
   ]
  },
  {
   "cell_type": "markdown",
   "id": "9a43b191",
   "metadata": {},
   "source": [
    "# Decesion Tree Regressor"
   ]
  },
  {
   "cell_type": "code",
   "execution_count": 53,
   "id": "5701b059",
   "metadata": {},
   "outputs": [
    {
     "data": {
      "image/png": "[encoded data removed]",
      "text/plain": [
       "<Figure size 432x288 with 1 Axes>"
      ]
     },
     "metadata": {
      "needs_background": "light"
     },
     "output_type": "display_data"
    }
   ],
   "source": [
    "# using Decesion Tree Regressor to predict the values\n",
    "from sklearn.tree import DecisionTreeRegressor\n",
    "from sklearn.metrics import mean_squared_error as mse\n",
    "\n",
    "max_depths = range(1, 20)\n",
    "train_error = []\n",
    "for max_depth in max_depths:\n",
    "    model_1 = DecisionTreeRegressor(max_depth=max_depth)\n",
    "    model_1.fit(df_p3_New_features, df_p3_New_outcome)\n",
    "    train_error.append(mse(df_p3_New_outcome, model_1.predict(df_p3_New_features)))\n",
    "    \n",
    "test_error = []\n",
    "for max_depth in max_depths:\n",
    "    model_2 = DecisionTreeRegressor(max_depth=max_depth)\n",
    "    model_2.fit(X_train, y_train)\n",
    "    test_error.append(mse(y_test, model_2.predict(X_test)))\n",
    "\n",
    "plt.plot(max_depths, train_error, color='orange', label='Training error')\n",
    "plt.plot(max_depths, test_error, color='blue', label='Testing error')\n",
    "plt.xlabel('Tree depth')\n",
    "plt.axvline(x=5, color='pink', linestyle='--')\n",
    "plt.annotate('optimum = 5', xy=(7.5, 1.17), color='red')\n",
    "plt.ylabel('Mean squared error')\n",
    "plt.title('Hyperparameter Tuning', pad=15, size=15)\n",
    "plt.legend()\n",
    "plt.savefig('error.png')"
   ]
  },
  {
   "cell_type": "code",
   "execution_count": 55,
   "id": "3cbf8ae9",
   "metadata": {},
   "outputs": [
    {
     "data": {
      "text/plain": [
       "GridSearchCV(cv=5, estimator=DecisionTreeRegressor(), n_jobs=-1,\n",
       "             param_grid={'max_depth': range(1, 10),\n",
       "                         'min_samples_split': range(10, 30, 10)},\n",
       "             scoring='neg_mean_squared_error')"
      ]
     },
     "execution_count": 55,
     "metadata": {},
     "output_type": "execute_result"
    }
   ],
   "source": [
    "# performing grid search CV\n",
    "\n",
    "model_dtr = DecisionTreeRegressor()\n",
    "gridsearch_dtr = GridSearchCV(model_dtr,\n",
    "                  param_grid = {'max_depth': range(1, 10),\n",
    "                                'min_samples_split': range(10, 30, 10)},\n",
    "                  cv=5,\n",
    "                  n_jobs=-1,\n",
    "                  scoring='neg_mean_squared_error')\n",
    "gridsearch_dtr.fit(X_train, y_train)"
   ]
  },
  {
   "cell_type": "code",
   "execution_count": 56,
   "id": "1bf053d6",
   "metadata": {},
   "outputs": [
    {
     "name": "stdout",
     "output_type": "stream",
     "text": [
      "{'max_depth': 6, 'min_samples_split': 20}\n"
     ]
    }
   ],
   "source": [
    "print(gridsearch_dtr.best_params_)"
   ]
  },
  {
   "cell_type": "code",
   "execution_count": 58,
   "id": "0cd79936",
   "metadata": {},
   "outputs": [
    {
     "data": {
      "text/plain": [
       "DecisionTreeRegressor(max_depth=6, min_samples_split=20)"
      ]
     },
     "execution_count": 58,
     "metadata": {},
     "output_type": "execute_result"
    }
   ],
   "source": [
    "#applying the best parameters from above results to train the model\n",
    "new_model = DecisionTreeRegressor(max_depth=6,\n",
    "                                  min_samples_split=20)\n",
    "new_model.fit(X_train, y_train)"
   ]
  },
  {
   "cell_type": "code",
   "execution_count": 59,
   "id": "3fd3bbc5",
   "metadata": {},
   "outputs": [
    {
     "data": {
      "text/plain": [
       "array([1367.94076923, 2530.72823529,  203.27944444, 1014.71636364,\n",
       "       1688.24363636,   53.85766467,  291.81280488, 1628.0352381 ,\n",
       "       2530.72823529, 2679.00384615,  363.35849315, 2388.98666667,\n",
       "        291.81280488, 1014.71636364,   53.85766467,   53.85766467,\n",
       "        363.35849315, 1476.17875   , 2913.188     ,  363.35849315,\n",
       "       1628.0352381 ,  363.35849315, 2903.65      , 1014.71636364,\n",
       "       2903.65      ,  950.51842105, 1520.21972973,  363.35849315,\n",
       "       3459.98333333, 2701.00090909, 2903.65      ,  363.35849315,\n",
       "        748.79333333,  291.81280488,  291.81280488,  795.74428571,\n",
       "        291.81280488,  729.66714286, 2679.00384615,  399.55963636,\n",
       "       1688.24363636, 2679.00384615,   53.85766467,  363.35849315,\n",
       "        548.55608696,  363.35849315, 2105.67384615,   53.85766467,\n",
       "        399.55963636,  610.79866667,  795.74428571,  610.79866667,\n",
       "       2903.65      ,   53.85766467, 2679.00384615,  587.70666667,\n",
       "       1688.24363636, 2439.73      , 2512.07894737,  729.66714286,\n",
       "       1688.24363636,  399.55963636,  587.70666667, 3614.08      ,\n",
       "        363.35849315, 2105.67384615,   53.85766467,   53.85766467,\n",
       "       2903.65      , 1628.0352381 , 1520.21972973, 2105.67384615,\n",
       "       2530.72823529,  748.79333333,  291.81280488,  291.81280488,\n",
       "        363.35849315,  363.35849315,   53.85766467,  291.81280488,\n",
       "        950.51842105,   53.85766467, 1014.71636364,   53.85766467,\n",
       "        291.81280488,  203.27944444, 1520.21972973,  748.79333333,\n",
       "        587.70666667,  203.27944444,  795.74428571,  795.74428571,\n",
       "        203.27944444,   53.85766467,  363.35849315,   53.85766467,\n",
       "         53.85766467,   53.85766467,  363.35849315, 2105.67384615,\n",
       "         53.85766467, 3683.38333333,   53.85766467,  399.55963636,\n",
       "       2512.07894737,  291.81280488,  950.51842105, 1520.21972973,\n",
       "        363.35849315,  795.74428571,  363.35849315,  291.81280488,\n",
       "       1476.17875   ,  291.81280488,  950.51842105,   53.85766467,\n",
       "        342.59178571,   53.85766467,  291.81280488, 1520.21972973,\n",
       "       2679.00384615,   53.85766467,   53.85766467,  399.55963636,\n",
       "       2913.188     ,  399.55963636,  291.81280488, 1688.24363636,\n",
       "       2903.65      ,  399.55963636,  203.27944444,  363.35849315,\n",
       "        363.35849315, 2141.64      ,  291.81280488,  748.79333333,\n",
       "       2105.67384615, 2530.72823529, 2530.72823529,  363.35849315,\n",
       "        291.81280488,   53.85766467,  399.55963636,   53.85766467,\n",
       "        363.35849315,  986.17666667,   53.85766467, 3459.98333333,\n",
       "        203.27944444, 1495.79454545,  203.27944444,  363.35849315,\n",
       "        203.27944444, 1014.71636364,  342.59178571,  399.55963636,\n",
       "        203.27944444,  203.27944444,   53.85766467,  363.35849315,\n",
       "        291.81280488, 2530.72823529, 2388.98666667,  203.27944444,\n",
       "        950.51842105, 1014.71636364,  203.27944444,   53.85766467,\n",
       "       2105.67384615,  363.35849315,   53.85766467, 1014.71636364,\n",
       "        795.74428571,  363.35849315, 1520.21972973, 1628.0352381 ,\n",
       "        986.17666667, 1688.24363636, 2530.72823529,  399.55963636,\n",
       "       1688.24363636, 2701.00090909,  399.55963636,  203.27944444,\n",
       "        399.55963636,  342.59178571,  610.79866667, 1014.71636364,\n",
       "        399.55963636,  363.35849315,  363.35849315,  399.55963636,\n",
       "       1628.0352381 , 1688.24363636,  399.55963636, 2701.00090909,\n",
       "        291.81280488,  291.81280488, 1014.71636364,  363.35849315,\n",
       "        363.35849315,  986.17666667,  363.35849315, 3683.38333333,\n",
       "        291.81280488,  291.81280488, 1231.55142857, 1688.24363636,\n",
       "        363.35849315,  748.79333333, 1014.71636364,   53.85766467,\n",
       "       1628.0352381 ,  548.55608696, 1520.21972973, 2679.00384615,\n",
       "        291.81280488, 1367.94076923,  548.55608696,  363.35849315,\n",
       "        291.81280488,   53.85766467, 1520.21972973, 1688.24363636,\n",
       "         53.85766467,   53.85766467,  291.81280488, 1014.71636364,\n",
       "        363.35849315, 1628.0352381 ,  363.35849315,  950.51842105,\n",
       "        950.51842105,  363.35849315,   53.85766467, 1628.0352381 ,\n",
       "        729.66714286, 1014.71636364,  363.35849315,  795.74428571,\n",
       "        363.35849315,  729.66714286,  399.55963636,  291.81280488,\n",
       "        363.35849315,  399.55963636, 1688.24363636, 1014.71636364,\n",
       "        203.27944444, 1520.21972973,  363.35849315,   53.85766467,\n",
       "         53.85766467, 1014.71636364, 1688.24363636, 2530.72823529,\n",
       "       2388.98666667,  729.66714286, 1688.24363636,  203.27944444,\n",
       "        363.35849315,  363.35849315,  363.35849315, 2530.72823529,\n",
       "        363.35849315, 1014.71636364,  795.74428571,  729.66714286,\n",
       "        363.35849315,  795.74428571,  363.35849315,  363.35849315,\n",
       "       1381.6725    ,  795.74428571, 2530.72823529,   53.85766467,\n",
       "        363.35849315,  203.27944444, 1476.17875   ,  363.35849315,\n",
       "        587.70666667, 2105.67384615,   53.85766467,  291.81280488,\n",
       "        203.27944444,   53.85766467,   53.85766467,  372.39333333,\n",
       "        986.17666667, 1014.71636364,  399.55963636, 1014.71636364,\n",
       "       1231.55142857,   53.85766467,   53.85766467,  291.81280488,\n",
       "        399.55963636,  363.35849315,   53.85766467, 1688.24363636])"
      ]
     },
     "execution_count": 59,
     "metadata": {},
     "output_type": "execute_result"
    }
   ],
   "source": [
    "#new predictions on test data\n",
    "predictions = new_model.predict(X_test)\n",
    "predictions"
   ]
  },
  {
   "cell_type": "code",
   "execution_count": 60,
   "id": "52344319",
   "metadata": {},
   "outputs": [
    {
     "data": {
      "text/plain": [
       "array([ 610.79866667, 1367.94076923, 1367.94076923, ...,   53.85766467,\n",
       "        363.35849315,  748.79333333])"
      ]
     },
     "execution_count": 60,
     "metadata": {},
     "output_type": "execute_result"
    }
   ],
   "source": [
    "#predictions on Unseen data\n",
    "new_predict_dtr = new_model.predict(df_p3_test_New_features)\n",
    "new_predict_dtr"
   ]
  },
  {
   "cell_type": "code",
   "execution_count": 61,
   "id": "7af90631",
   "metadata": {},
   "outputs": [
    {
     "data": {
      "text/plain": [
       "744143.1367566203"
      ]
     },
     "execution_count": 61,
     "metadata": {},
     "output_type": "execute_result"
    }
   ],
   "source": [
    "# Mean square error of the DTR\n",
    "metrics.mean_squared_error(y_test, predictions)"
   ]
  },
  {
   "cell_type": "markdown",
   "id": "9261469e",
   "metadata": {},
   "source": [
    " After applying Linear Regression, Random Forest Regresion and Decision Tree Regression regression methods, It is observed that \n",
    " Linear Regression had the least mean square error and is an ideal choice to predict the given amount of a new customer will spend in a month.  "
   ]
  },
  {
   "cell_type": "code",
   "execution_count": 64,
   "id": "ce4cd8fc",
   "metadata": {},
   "outputs": [],
   "source": [
    "# Transfering the prediction data to test csv file.\n",
    "\n",
    "df_p3_test['Target'] = lm_predictions\n",
    "df_p3_test.to_csv('CE802_P3_Test.csv')"
   ]
  },
  {
   "cell_type": "code",
   "execution_count": 65,
   "id": "2ec63fc1",
   "metadata": {},
   "outputs": [
    {
     "data": {
      "text/html": [
       "<div>\n",
       "<style scoped>\n",
       "    .dataframe tbody tr th:only-of-type {\n",
       "        vertical-align: middle;\n",
       "    }\n",
       "\n",
       "    .dataframe tbody tr th {\n",
       "        vertical-align: top;\n",
       "    }\n",
       "\n",
       "    .dataframe thead th {\n",
       "        text-align: right;\n",
       "    }\n",
       "</style>\n",
       "<table border=\"1\" class=\"dataframe\">\n",
       "  <thead>\n",
       "    <tr style=\"text-align: right;\">\n",
       "      <th></th>\n",
       "      <th>F1</th>\n",
       "      <th>F2</th>\n",
       "      <th>F3</th>\n",
       "      <th>F4</th>\n",
       "      <th>F5</th>\n",
       "      <th>F6</th>\n",
       "      <th>F7</th>\n",
       "      <th>F8</th>\n",
       "      <th>F9</th>\n",
       "      <th>F10</th>\n",
       "      <th>F11</th>\n",
       "      <th>F12</th>\n",
       "      <th>F13</th>\n",
       "      <th>F14</th>\n",
       "      <th>F15</th>\n",
       "      <th>F16</th>\n",
       "      <th>Target</th>\n",
       "    </tr>\n",
       "  </thead>\n",
       "  <tbody>\n",
       "    <tr>\n",
       "      <th>0</th>\n",
       "      <td>11.23</td>\n",
       "      <td>-195.54</td>\n",
       "      <td>-1.19</td>\n",
       "      <td>1468.56</td>\n",
       "      <td>Very high</td>\n",
       "      <td>USA</td>\n",
       "      <td>8.97</td>\n",
       "      <td>-23.62</td>\n",
       "      <td>-249.36</td>\n",
       "      <td>-854.18</td>\n",
       "      <td>-155.20</td>\n",
       "      <td>12</td>\n",
       "      <td>10</td>\n",
       "      <td>12.39</td>\n",
       "      <td>-3480.87</td>\n",
       "      <td>0.04</td>\n",
       "      <td>1347.425860</td>\n",
       "    </tr>\n",
       "    <tr>\n",
       "      <th>1</th>\n",
       "      <td>14.89</td>\n",
       "      <td>-426.24</td>\n",
       "      <td>-1.18</td>\n",
       "      <td>3049.08</td>\n",
       "      <td>Very high</td>\n",
       "      <td>USA</td>\n",
       "      <td>6.33</td>\n",
       "      <td>-39.26</td>\n",
       "      <td>-226.26</td>\n",
       "      <td>-2126.68</td>\n",
       "      <td>-159.42</td>\n",
       "      <td>9</td>\n",
       "      <td>8</td>\n",
       "      <td>5.19</td>\n",
       "      <td>8831.19</td>\n",
       "      <td>43.68</td>\n",
       "      <td>1809.492513</td>\n",
       "    </tr>\n",
       "    <tr>\n",
       "      <th>2</th>\n",
       "      <td>6.76</td>\n",
       "      <td>-493.47</td>\n",
       "      <td>-13.55</td>\n",
       "      <td>3197.13</td>\n",
       "      <td>Very low</td>\n",
       "      <td>USA</td>\n",
       "      <td>1.77</td>\n",
       "      <td>-25.84</td>\n",
       "      <td>-238.30</td>\n",
       "      <td>-2270.78</td>\n",
       "      <td>-212.73</td>\n",
       "      <td>12</td>\n",
       "      <td>10</td>\n",
       "      <td>3.30</td>\n",
       "      <td>-4468.44</td>\n",
       "      <td>0.52</td>\n",
       "      <td>885.151905</td>\n",
       "    </tr>\n",
       "    <tr>\n",
       "      <th>3</th>\n",
       "      <td>15.12</td>\n",
       "      <td>-320.04</td>\n",
       "      <td>-12.17</td>\n",
       "      <td>2436.00</td>\n",
       "      <td>Very low</td>\n",
       "      <td>Rest</td>\n",
       "      <td>5.42</td>\n",
       "      <td>-17.32</td>\n",
       "      <td>-203.64</td>\n",
       "      <td>-304.24</td>\n",
       "      <td>-100.34</td>\n",
       "      <td>18</td>\n",
       "      <td>12</td>\n",
       "      <td>6.51</td>\n",
       "      <td>22851.60</td>\n",
       "      <td>758.54</td>\n",
       "      <td>745.608424</td>\n",
       "    </tr>\n",
       "    <tr>\n",
       "      <th>4</th>\n",
       "      <td>10.12</td>\n",
       "      <td>-387.99</td>\n",
       "      <td>-7.11</td>\n",
       "      <td>2800.89</td>\n",
       "      <td>Very low</td>\n",
       "      <td>Europe</td>\n",
       "      <td>1.39</td>\n",
       "      <td>-12.78</td>\n",
       "      <td>-265.16</td>\n",
       "      <td>-1419.76</td>\n",
       "      <td>-137.49</td>\n",
       "      <td>0</td>\n",
       "      <td>14</td>\n",
       "      <td>14.22</td>\n",
       "      <td>24396.09</td>\n",
       "      <td>0.68</td>\n",
       "      <td>-218.137550</td>\n",
       "    </tr>\n",
       "  </tbody>\n",
       "</table>\n",
       "</div>"
      ],
      "text/plain": [
       "      F1      F2     F3       F4         F5      F6    F7     F8      F9  \\\n",
       "0  11.23 -195.54  -1.19  1468.56  Very high     USA  8.97 -23.62 -249.36   \n",
       "1  14.89 -426.24  -1.18  3049.08  Very high     USA  6.33 -39.26 -226.26   \n",
       "2   6.76 -493.47 -13.55  3197.13   Very low     USA  1.77 -25.84 -238.30   \n",
       "3  15.12 -320.04 -12.17  2436.00   Very low    Rest  5.42 -17.32 -203.64   \n",
       "4  10.12 -387.99  -7.11  2800.89   Very low  Europe  1.39 -12.78 -265.16   \n",
       "\n",
       "       F10     F11  F12  F13    F14       F15     F16       Target  \n",
       "0  -854.18 -155.20   12   10  12.39  -3480.87    0.04  1347.425860  \n",
       "1 -2126.68 -159.42    9    8   5.19   8831.19   43.68  1809.492513  \n",
       "2 -2270.78 -212.73   12   10   3.30  -4468.44    0.52   885.151905  \n",
       "3  -304.24 -100.34   18   12   6.51  22851.60  758.54   745.608424  \n",
       "4 -1419.76 -137.49    0   14  14.22  24396.09    0.68  -218.137550  "
      ]
     },
     "execution_count": 65,
     "metadata": {},
     "output_type": "execute_result"
    }
   ],
   "source": [
    "df_p3_test.head()"
   ]
  },
  {
   "cell_type": "code",
   "execution_count": null,
   "id": "f3719b94",
   "metadata": {},
   "outputs": [],
   "source": []
  }
 ],
 "metadata": {
  "kernelspec": {
   "display_name": "Python 3",
   "language": "python",
   "name": "python3"
  },
  "language_info": {
   "codemirror_mode": {
    "name": "ipython",
    "version": 3
   },
   "file_extension": ".py",
   "mimetype": "text/x-python",
   "name": "python",
   "nbconvert_exporter": "python",
   "pygments_lexer": "ipython3",
   "version": "3.7.10"
  }
 },
 "nbformat": 4,
 "nbformat_minor": 5
}
