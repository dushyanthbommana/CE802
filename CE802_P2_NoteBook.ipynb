{
 "cells": [
  {
   "cell_type": "markdown",
   "id": "e25df21a",
   "metadata": {},
   "source": [
    "Regstration Number : 2010722"
   ]
  },
  {
   "cell_type": "code",
   "execution_count": 1,
   "id": "3bacc626",
   "metadata": {},
   "outputs": [],
   "source": [
    "#importing required libraries\n",
    "import numpy as np\n",
    "import pandas as pd\n",
    "import matplotlib.pyplot as plt\n",
    "import seaborn as sns"
   ]
  },
  {
   "cell_type": "code",
   "execution_count": 2,
   "id": "55f239a5",
   "metadata": {},
   "outputs": [],
   "source": [
    "# Reading the dataset into a dataframe df_p3\n",
    "df_p2=pd.read_csv(\"D:\\Lab_Work\\CE802_Assignment2\\CE802_P2_Data\\CE802_P2_Data.csv\")"
   ]
  },
  {
   "cell_type": "code",
   "execution_count": 3,
   "id": "05c8198d",
   "metadata": {},
   "outputs": [
    {
     "data": {
      "text/html": [
       "<div>\n",
       "<style scoped>\n",
       "    .dataframe tbody tr th:only-of-type {\n",
       "        vertical-align: middle;\n",
       "    }\n",
       "\n",
       "    .dataframe tbody tr th {\n",
       "        vertical-align: top;\n",
       "    }\n",
       "\n",
       "    .dataframe thead th {\n",
       "        text-align: right;\n",
       "    }\n",
       "</style>\n",
       "<table border=\"1\" class=\"dataframe\">\n",
       "  <thead>\n",
       "    <tr style=\"text-align: right;\">\n",
       "      <th></th>\n",
       "      <th>F1</th>\n",
       "      <th>F2</th>\n",
       "      <th>F3</th>\n",
       "      <th>F4</th>\n",
       "      <th>F5</th>\n",
       "      <th>F6</th>\n",
       "      <th>F7</th>\n",
       "      <th>F8</th>\n",
       "      <th>F9</th>\n",
       "      <th>F10</th>\n",
       "      <th>F11</th>\n",
       "      <th>F12</th>\n",
       "      <th>F13</th>\n",
       "      <th>F14</th>\n",
       "      <th>F15</th>\n",
       "      <th>Class</th>\n",
       "    </tr>\n",
       "  </thead>\n",
       "  <tbody>\n",
       "    <tr>\n",
       "      <th>0</th>\n",
       "      <td>4.92</td>\n",
       "      <td>-13.23</td>\n",
       "      <td>330</td>\n",
       "      <td>13.22</td>\n",
       "      <td>-5.51</td>\n",
       "      <td>41.10</td>\n",
       "      <td>16.72</td>\n",
       "      <td>-56.98</td>\n",
       "      <td>-748.72</td>\n",
       "      <td>20</td>\n",
       "      <td>9.75</td>\n",
       "      <td>259.66</td>\n",
       "      <td>8.00</td>\n",
       "      <td>-0.35</td>\n",
       "      <td>4.76</td>\n",
       "      <td>False</td>\n",
       "    </tr>\n",
       "    <tr>\n",
       "      <th>1</th>\n",
       "      <td>-9.33</td>\n",
       "      <td>-27.72</td>\n",
       "      <td>3</td>\n",
       "      <td>12.78</td>\n",
       "      <td>-9.12</td>\n",
       "      <td>5.31</td>\n",
       "      <td>9.90</td>\n",
       "      <td>-30.98</td>\n",
       "      <td>-436.72</td>\n",
       "      <td>2</td>\n",
       "      <td>-1.56</td>\n",
       "      <td>131.66</td>\n",
       "      <td>0.76</td>\n",
       "      <td>1.79</td>\n",
       "      <td>NaN</td>\n",
       "      <td>False</td>\n",
       "    </tr>\n",
       "    <tr>\n",
       "      <th>2</th>\n",
       "      <td>-15.09</td>\n",
       "      <td>-26.28</td>\n",
       "      <td>6</td>\n",
       "      <td>13.54</td>\n",
       "      <td>-7.75</td>\n",
       "      <td>5.67</td>\n",
       "      <td>9.93</td>\n",
       "      <td>-34.98</td>\n",
       "      <td>-482.72</td>\n",
       "      <td>2</td>\n",
       "      <td>-2.58</td>\n",
       "      <td>63.66</td>\n",
       "      <td>0.64</td>\n",
       "      <td>2.02</td>\n",
       "      <td>NaN</td>\n",
       "      <td>True</td>\n",
       "    </tr>\n",
       "    <tr>\n",
       "      <th>3</th>\n",
       "      <td>-18.09</td>\n",
       "      <td>-24.60</td>\n",
       "      <td>30</td>\n",
       "      <td>13.28</td>\n",
       "      <td>-8.61</td>\n",
       "      <td>3.51</td>\n",
       "      <td>10.02</td>\n",
       "      <td>-30.98</td>\n",
       "      <td>-414.72</td>\n",
       "      <td>2</td>\n",
       "      <td>-7.08</td>\n",
       "      <td>133.66</td>\n",
       "      <td>0.57</td>\n",
       "      <td>1.98</td>\n",
       "      <td>NaN</td>\n",
       "      <td>True</td>\n",
       "    </tr>\n",
       "    <tr>\n",
       "      <th>4</th>\n",
       "      <td>6.12</td>\n",
       "      <td>-8.64</td>\n",
       "      <td>300</td>\n",
       "      <td>14.94</td>\n",
       "      <td>-1.97</td>\n",
       "      <td>29.40</td>\n",
       "      <td>19.32</td>\n",
       "      <td>-36.98</td>\n",
       "      <td>-428.72</td>\n",
       "      <td>20</td>\n",
       "      <td>9.09</td>\n",
       "      <td>229.66</td>\n",
       "      <td>6.70</td>\n",
       "      <td>-3.83</td>\n",
       "      <td>NaN</td>\n",
       "      <td>True</td>\n",
       "    </tr>\n",
       "  </tbody>\n",
       "</table>\n",
       "</div>"
      ],
      "text/plain": [
       "      F1     F2   F3     F4    F5     F6     F7     F8      F9  F10   F11  \\\n",
       "0   4.92 -13.23  330  13.22 -5.51  41.10  16.72 -56.98 -748.72   20  9.75   \n",
       "1  -9.33 -27.72    3  12.78 -9.12   5.31   9.90 -30.98 -436.72    2 -1.56   \n",
       "2 -15.09 -26.28    6  13.54 -7.75   5.67   9.93 -34.98 -482.72    2 -2.58   \n",
       "3 -18.09 -24.60   30  13.28 -8.61   3.51  10.02 -30.98 -414.72    2 -7.08   \n",
       "4   6.12  -8.64  300  14.94 -1.97  29.40  19.32 -36.98 -428.72   20  9.09   \n",
       "\n",
       "      F12   F13   F14   F15  Class  \n",
       "0  259.66  8.00 -0.35  4.76  False  \n",
       "1  131.66  0.76  1.79   NaN  False  \n",
       "2   63.66  0.64  2.02   NaN   True  \n",
       "3  133.66  0.57  1.98   NaN   True  \n",
       "4  229.66  6.70 -3.83   NaN   True  "
      ]
     },
     "execution_count": 3,
     "metadata": {},
     "output_type": "execute_result"
    }
   ],
   "source": [
    "df_p2.head()"
   ]
  },
  {
   "cell_type": "code",
   "execution_count": 4,
   "id": "fb5ed14a",
   "metadata": {},
   "outputs": [
    {
     "name": "stdout",
     "output_type": "stream",
     "text": [
      "<class 'pandas.core.frame.DataFrame'>\n",
      "RangeIndex: 1500 entries, 0 to 1499\n",
      "Data columns (total 16 columns):\n",
      " #   Column  Non-Null Count  Dtype  \n",
      "---  ------  --------------  -----  \n",
      " 0   F1      1500 non-null   float64\n",
      " 1   F2      1500 non-null   float64\n",
      " 2   F3      1500 non-null   int64  \n",
      " 3   F4      1500 non-null   float64\n",
      " 4   F5      1500 non-null   float64\n",
      " 5   F6      1500 non-null   float64\n",
      " 6   F7      1500 non-null   float64\n",
      " 7   F8      1500 non-null   float64\n",
      " 8   F9      1500 non-null   float64\n",
      " 9   F10     1500 non-null   int64  \n",
      " 10  F11     1500 non-null   float64\n",
      " 11  F12     1500 non-null   float64\n",
      " 12  F13     1500 non-null   float64\n",
      " 13  F14     1500 non-null   float64\n",
      " 14  F15     750 non-null    float64\n",
      " 15  Class   1500 non-null   bool   \n",
      "dtypes: bool(1), float64(13), int64(2)\n",
      "memory usage: 177.4 KB\n"
     ]
    }
   ],
   "source": [
    "df_p2.info()"
   ]
  },
  {
   "cell_type": "code",
   "execution_count": 5,
   "id": "4236f7ef",
   "metadata": {},
   "outputs": [
    {
     "data": {
      "text/plain": [
       "F1         0\n",
       "F2         0\n",
       "F3         0\n",
       "F4         0\n",
       "F5         0\n",
       "F6         0\n",
       "F7         0\n",
       "F8         0\n",
       "F9         0\n",
       "F10        0\n",
       "F11        0\n",
       "F12        0\n",
       "F13        0\n",
       "F14        0\n",
       "F15      750\n",
       "Class      0\n",
       "dtype: int64"
      ]
     },
     "execution_count": 5,
     "metadata": {},
     "output_type": "execute_result"
    }
   ],
   "source": [
    "# Checking for missing values\n",
    "df_p2.isnull().sum()"
   ]
  },
  {
   "cell_type": "code",
   "execution_count": 6,
   "id": "02bab693",
   "metadata": {},
   "outputs": [],
   "source": [
    "df_p2.fillna(df_p2.mean(), inplace=True)"
   ]
  },
  {
   "cell_type": "code",
   "execution_count": 7,
   "id": "50a645da",
   "metadata": {},
   "outputs": [
    {
     "data": {
      "text/plain": [
       "F1       0\n",
       "F2       0\n",
       "F3       0\n",
       "F4       0\n",
       "F5       0\n",
       "F6       0\n",
       "F7       0\n",
       "F8       0\n",
       "F9       0\n",
       "F10      0\n",
       "F11      0\n",
       "F12      0\n",
       "F13      0\n",
       "F14      0\n",
       "F15      0\n",
       "Class    0\n",
       "dtype: int64"
      ]
     },
     "execution_count": 7,
     "metadata": {},
     "output_type": "execute_result"
    }
   ],
   "source": [
    "df_p2.isnull().sum()"
   ]
  },
  {
   "cell_type": "code",
   "execution_count": 8,
   "id": "4eaaeaba",
   "metadata": {},
   "outputs": [
    {
     "data": {
      "text/html": [
       "<div>\n",
       "<style scoped>\n",
       "    .dataframe tbody tr th:only-of-type {\n",
       "        vertical-align: middle;\n",
       "    }\n",
       "\n",
       "    .dataframe tbody tr th {\n",
       "        vertical-align: top;\n",
       "    }\n",
       "\n",
       "    .dataframe thead th {\n",
       "        text-align: right;\n",
       "    }\n",
       "</style>\n",
       "<table border=\"1\" class=\"dataframe\">\n",
       "  <thead>\n",
       "    <tr style=\"text-align: right;\">\n",
       "      <th></th>\n",
       "      <th>F1</th>\n",
       "      <th>F2</th>\n",
       "      <th>F3</th>\n",
       "      <th>F4</th>\n",
       "      <th>F5</th>\n",
       "      <th>F6</th>\n",
       "      <th>F7</th>\n",
       "      <th>F8</th>\n",
       "      <th>F9</th>\n",
       "      <th>F10</th>\n",
       "      <th>F11</th>\n",
       "      <th>F12</th>\n",
       "      <th>F13</th>\n",
       "      <th>F14</th>\n",
       "      <th>Class</th>\n",
       "    </tr>\n",
       "  </thead>\n",
       "  <tbody>\n",
       "    <tr>\n",
       "      <th>0</th>\n",
       "      <td>4.92</td>\n",
       "      <td>-13.23</td>\n",
       "      <td>330</td>\n",
       "      <td>13.22</td>\n",
       "      <td>-5.51</td>\n",
       "      <td>41.10</td>\n",
       "      <td>16.72</td>\n",
       "      <td>-56.98</td>\n",
       "      <td>-748.72</td>\n",
       "      <td>20</td>\n",
       "      <td>9.75</td>\n",
       "      <td>259.66</td>\n",
       "      <td>8.00</td>\n",
       "      <td>-0.35</td>\n",
       "      <td>False</td>\n",
       "    </tr>\n",
       "    <tr>\n",
       "      <th>1</th>\n",
       "      <td>-9.33</td>\n",
       "      <td>-27.72</td>\n",
       "      <td>3</td>\n",
       "      <td>12.78</td>\n",
       "      <td>-9.12</td>\n",
       "      <td>5.31</td>\n",
       "      <td>9.90</td>\n",
       "      <td>-30.98</td>\n",
       "      <td>-436.72</td>\n",
       "      <td>2</td>\n",
       "      <td>-1.56</td>\n",
       "      <td>131.66</td>\n",
       "      <td>0.76</td>\n",
       "      <td>1.79</td>\n",
       "      <td>False</td>\n",
       "    </tr>\n",
       "    <tr>\n",
       "      <th>2</th>\n",
       "      <td>-15.09</td>\n",
       "      <td>-26.28</td>\n",
       "      <td>6</td>\n",
       "      <td>13.54</td>\n",
       "      <td>-7.75</td>\n",
       "      <td>5.67</td>\n",
       "      <td>9.93</td>\n",
       "      <td>-34.98</td>\n",
       "      <td>-482.72</td>\n",
       "      <td>2</td>\n",
       "      <td>-2.58</td>\n",
       "      <td>63.66</td>\n",
       "      <td>0.64</td>\n",
       "      <td>2.02</td>\n",
       "      <td>True</td>\n",
       "    </tr>\n",
       "    <tr>\n",
       "      <th>3</th>\n",
       "      <td>-18.09</td>\n",
       "      <td>-24.60</td>\n",
       "      <td>30</td>\n",
       "      <td>13.28</td>\n",
       "      <td>-8.61</td>\n",
       "      <td>3.51</td>\n",
       "      <td>10.02</td>\n",
       "      <td>-30.98</td>\n",
       "      <td>-414.72</td>\n",
       "      <td>2</td>\n",
       "      <td>-7.08</td>\n",
       "      <td>133.66</td>\n",
       "      <td>0.57</td>\n",
       "      <td>1.98</td>\n",
       "      <td>True</td>\n",
       "    </tr>\n",
       "    <tr>\n",
       "      <th>4</th>\n",
       "      <td>6.12</td>\n",
       "      <td>-8.64</td>\n",
       "      <td>300</td>\n",
       "      <td>14.94</td>\n",
       "      <td>-1.97</td>\n",
       "      <td>29.40</td>\n",
       "      <td>19.32</td>\n",
       "      <td>-36.98</td>\n",
       "      <td>-428.72</td>\n",
       "      <td>20</td>\n",
       "      <td>9.09</td>\n",
       "      <td>229.66</td>\n",
       "      <td>6.70</td>\n",
       "      <td>-3.83</td>\n",
       "      <td>True</td>\n",
       "    </tr>\n",
       "  </tbody>\n",
       "</table>\n",
       "</div>"
      ],
      "text/plain": [
       "      F1     F2   F3     F4    F5     F6     F7     F8      F9  F10   F11  \\\n",
       "0   4.92 -13.23  330  13.22 -5.51  41.10  16.72 -56.98 -748.72   20  9.75   \n",
       "1  -9.33 -27.72    3  12.78 -9.12   5.31   9.90 -30.98 -436.72    2 -1.56   \n",
       "2 -15.09 -26.28    6  13.54 -7.75   5.67   9.93 -34.98 -482.72    2 -2.58   \n",
       "3 -18.09 -24.60   30  13.28 -8.61   3.51  10.02 -30.98 -414.72    2 -7.08   \n",
       "4   6.12  -8.64  300  14.94 -1.97  29.40  19.32 -36.98 -428.72   20  9.09   \n",
       "\n",
       "      F12   F13   F14  Class  \n",
       "0  259.66  8.00 -0.35  False  \n",
       "1  131.66  0.76  1.79  False  \n",
       "2   63.66  0.64  2.02   True  \n",
       "3  133.66  0.57  1.98   True  \n",
       "4  229.66  6.70 -3.83   True  "
      ]
     },
     "execution_count": 8,
     "metadata": {},
     "output_type": "execute_result"
    }
   ],
   "source": [
    "# dropping the column with missing values\n",
    "df_p2 = df_p2.drop(df_p2.columns[14], axis=1)\n",
    "df_p2.head()"
   ]
  },
  {
   "cell_type": "code",
   "execution_count": 9,
   "id": "bcb13bc7",
   "metadata": {},
   "outputs": [
    {
     "data": {
      "text/plain": [
       "<AxesSubplot:xlabel='Class', ylabel='count'>"
      ]
     },
     "execution_count": 9,
     "metadata": {},
     "output_type": "execute_result"
    },
    {
     "data": {
      "image/png": "[encoded data removed]",
      "text/plain": [
       "<Figure size 432x288 with 1 Axes>"
      ]
     },
     "metadata": {
      "needs_background": "light"
     },
     "output_type": "display_data"
    }
   ],
   "source": [
    "# Distribution of Customers across the class.\n",
    "sns.countplot(x='Class', data = df_p2)"
   ]
  },
  {
   "cell_type": "code",
   "execution_count": 10,
   "id": "4835e2c3",
   "metadata": {},
   "outputs": [
    {
     "name": "stdout",
     "output_type": "stream",
     "text": [
      "      F1     F2   F3     F4    F5     F6     F7     F8      F9  F10   F11  \\\n",
      "0   4.92 -13.23  330  13.22 -5.51  41.10  16.72 -56.98 -748.72   20  9.75   \n",
      "1  -9.33 -27.72    3  12.78 -9.12   5.31   9.90 -30.98 -436.72    2 -1.56   \n",
      "2 -15.09 -26.28    6  13.54 -7.75   5.67   9.93 -34.98 -482.72    2 -2.58   \n",
      "3 -18.09 -24.60   30  13.28 -8.61   3.51  10.02 -30.98 -414.72    2 -7.08   \n",
      "4   6.12  -8.64  300  14.94 -1.97  29.40  19.32 -36.98 -428.72   20  9.09   \n",
      "\n",
      "      F12   F13   F14  \n",
      "0  259.66  8.00 -0.35  \n",
      "1  131.66  0.76  1.79  \n",
      "2   63.66  0.64  2.02  \n",
      "3  133.66  0.57  1.98  \n",
      "4  229.66  6.70 -3.83  \n",
      "0    False\n",
      "1    False\n",
      "2     True\n",
      "3     True\n",
      "4     True\n",
      "Name: Class, dtype: bool\n"
     ]
    }
   ],
   "source": [
    "# seperating the predictor and response variables\n",
    "df_p2_feature=df_p2.drop(['Class'],axis=1)\n",
    "df_p2_outcome=df_p2['Class']\n",
    "print(df_p2_feature.head())\n",
    "print(df_p2_outcome.head())"
   ]
  },
  {
   "cell_type": "code",
   "execution_count": 11,
   "id": "e75be4dd",
   "metadata": {},
   "outputs": [],
   "source": [
    "# Reading the dataset into a dataframe df_p3\n",
    "df_p2_test=pd.read_csv(\"D:\\Lab_Work\\CE802_Assignment2\\CE802_P2_Data\\CE802_P2_Test.csv\")"
   ]
  },
  {
   "cell_type": "code",
   "execution_count": 12,
   "id": "573d1338",
   "metadata": {},
   "outputs": [
    {
     "data": {
      "text/html": [
       "<div>\n",
       "<style scoped>\n",
       "    .dataframe tbody tr th:only-of-type {\n",
       "        vertical-align: middle;\n",
       "    }\n",
       "\n",
       "    .dataframe tbody tr th {\n",
       "        vertical-align: top;\n",
       "    }\n",
       "\n",
       "    .dataframe thead th {\n",
       "        text-align: right;\n",
       "    }\n",
       "</style>\n",
       "<table border=\"1\" class=\"dataframe\">\n",
       "  <thead>\n",
       "    <tr style=\"text-align: right;\">\n",
       "      <th></th>\n",
       "      <th>F1</th>\n",
       "      <th>F2</th>\n",
       "      <th>F3</th>\n",
       "      <th>F4</th>\n",
       "      <th>F5</th>\n",
       "      <th>F6</th>\n",
       "      <th>F7</th>\n",
       "      <th>F8</th>\n",
       "      <th>F9</th>\n",
       "      <th>F10</th>\n",
       "      <th>F11</th>\n",
       "      <th>F12</th>\n",
       "      <th>F13</th>\n",
       "      <th>F14</th>\n",
       "      <th>F15</th>\n",
       "      <th>Class</th>\n",
       "    </tr>\n",
       "  </thead>\n",
       "  <tbody>\n",
       "    <tr>\n",
       "      <th>0</th>\n",
       "      <td>-8.67</td>\n",
       "      <td>-25.56</td>\n",
       "      <td>21</td>\n",
       "      <td>13.14</td>\n",
       "      <td>-7.45</td>\n",
       "      <td>5.55</td>\n",
       "      <td>10.29</td>\n",
       "      <td>-30.98</td>\n",
       "      <td>-476.72</td>\n",
       "      <td>2</td>\n",
       "      <td>-1.17</td>\n",
       "      <td>61.66</td>\n",
       "      <td>0.23</td>\n",
       "      <td>3.76</td>\n",
       "      <td>7.60</td>\n",
       "      <td>NaN</td>\n",
       "    </tr>\n",
       "    <tr>\n",
       "      <th>1</th>\n",
       "      <td>-8.31</td>\n",
       "      <td>-29.19</td>\n",
       "      <td>10</td>\n",
       "      <td>12.16</td>\n",
       "      <td>-7.66</td>\n",
       "      <td>5.22</td>\n",
       "      <td>10.22</td>\n",
       "      <td>-30.98</td>\n",
       "      <td>-422.72</td>\n",
       "      <td>2</td>\n",
       "      <td>-0.96</td>\n",
       "      <td>79.66</td>\n",
       "      <td>0.02</td>\n",
       "      <td>1.22</td>\n",
       "      <td>6.72</td>\n",
       "      <td>NaN</td>\n",
       "    </tr>\n",
       "    <tr>\n",
       "      <th>2</th>\n",
       "      <td>-0.84</td>\n",
       "      <td>-25.29</td>\n",
       "      <td>110</td>\n",
       "      <td>12.34</td>\n",
       "      <td>-3.72</td>\n",
       "      <td>20.70</td>\n",
       "      <td>17.32</td>\n",
       "      <td>-76.98</td>\n",
       "      <td>-778.72</td>\n",
       "      <td>20</td>\n",
       "      <td>11.10</td>\n",
       "      <td>-20.34</td>\n",
       "      <td>5.75</td>\n",
       "      <td>-1.97</td>\n",
       "      <td>NaN</td>\n",
       "      <td>NaN</td>\n",
       "    </tr>\n",
       "    <tr>\n",
       "      <th>3</th>\n",
       "      <td>0.90</td>\n",
       "      <td>-14.94</td>\n",
       "      <td>120</td>\n",
       "      <td>9.44</td>\n",
       "      <td>-3.44</td>\n",
       "      <td>28.05</td>\n",
       "      <td>15.52</td>\n",
       "      <td>-56.98</td>\n",
       "      <td>-858.72</td>\n",
       "      <td>20</td>\n",
       "      <td>6.33</td>\n",
       "      <td>229.66</td>\n",
       "      <td>8.05</td>\n",
       "      <td>-1.77</td>\n",
       "      <td>NaN</td>\n",
       "      <td>NaN</td>\n",
       "    </tr>\n",
       "    <tr>\n",
       "      <th>4</th>\n",
       "      <td>-0.33</td>\n",
       "      <td>-9.60</td>\n",
       "      <td>345</td>\n",
       "      <td>14.26</td>\n",
       "      <td>-3.32</td>\n",
       "      <td>34.80</td>\n",
       "      <td>15.07</td>\n",
       "      <td>-36.98</td>\n",
       "      <td>-458.72</td>\n",
       "      <td>20</td>\n",
       "      <td>12.18</td>\n",
       "      <td>129.66</td>\n",
       "      <td>9.80</td>\n",
       "      <td>-2.17</td>\n",
       "      <td>6.60</td>\n",
       "      <td>NaN</td>\n",
       "    </tr>\n",
       "  </tbody>\n",
       "</table>\n",
       "</div>"
      ],
      "text/plain": [
       "     F1     F2   F3     F4    F5     F6     F7     F8      F9  F10    F11  \\\n",
       "0 -8.67 -25.56   21  13.14 -7.45   5.55  10.29 -30.98 -476.72    2  -1.17   \n",
       "1 -8.31 -29.19   10  12.16 -7.66   5.22  10.22 -30.98 -422.72    2  -0.96   \n",
       "2 -0.84 -25.29  110  12.34 -3.72  20.70  17.32 -76.98 -778.72   20  11.10   \n",
       "3  0.90 -14.94  120   9.44 -3.44  28.05  15.52 -56.98 -858.72   20   6.33   \n",
       "4 -0.33  -9.60  345  14.26 -3.32  34.80  15.07 -36.98 -458.72   20  12.18   \n",
       "\n",
       "      F12   F13   F14   F15  Class  \n",
       "0   61.66  0.23  3.76  7.60    NaN  \n",
       "1   79.66  0.02  1.22  6.72    NaN  \n",
       "2  -20.34  5.75 -1.97   NaN    NaN  \n",
       "3  229.66  8.05 -1.77   NaN    NaN  \n",
       "4  129.66  9.80 -2.17  6.60    NaN  "
      ]
     },
     "execution_count": 12,
     "metadata": {},
     "output_type": "execute_result"
    }
   ],
   "source": [
    "df_p2_test.head()"
   ]
  },
  {
   "cell_type": "code",
   "execution_count": 13,
   "id": "3520e8ef",
   "metadata": {},
   "outputs": [
    {
     "data": {
      "text/plain": [
       "F1          0\n",
       "F2          0\n",
       "F3          0\n",
       "F4          0\n",
       "F5          0\n",
       "F6          0\n",
       "F7          0\n",
       "F8          0\n",
       "F9          0\n",
       "F10         0\n",
       "F11         0\n",
       "F12         0\n",
       "F13         0\n",
       "F14         0\n",
       "F15       750\n",
       "Class    1500\n",
       "dtype: int64"
      ]
     },
     "execution_count": 13,
     "metadata": {},
     "output_type": "execute_result"
    }
   ],
   "source": [
    "df_p2_test.isnull().sum()"
   ]
  },
  {
   "cell_type": "code",
   "execution_count": 14,
   "id": "61668db4",
   "metadata": {},
   "outputs": [
    {
     "data": {
      "text/html": [
       "<div>\n",
       "<style scoped>\n",
       "    .dataframe tbody tr th:only-of-type {\n",
       "        vertical-align: middle;\n",
       "    }\n",
       "\n",
       "    .dataframe tbody tr th {\n",
       "        vertical-align: top;\n",
       "    }\n",
       "\n",
       "    .dataframe thead th {\n",
       "        text-align: right;\n",
       "    }\n",
       "</style>\n",
       "<table border=\"1\" class=\"dataframe\">\n",
       "  <thead>\n",
       "    <tr style=\"text-align: right;\">\n",
       "      <th></th>\n",
       "      <th>F1</th>\n",
       "      <th>F2</th>\n",
       "      <th>F3</th>\n",
       "      <th>F4</th>\n",
       "      <th>F5</th>\n",
       "      <th>F6</th>\n",
       "      <th>F7</th>\n",
       "      <th>F8</th>\n",
       "      <th>F9</th>\n",
       "      <th>F10</th>\n",
       "      <th>F11</th>\n",
       "      <th>F12</th>\n",
       "      <th>F13</th>\n",
       "      <th>F14</th>\n",
       "      <th>Class</th>\n",
       "    </tr>\n",
       "  </thead>\n",
       "  <tbody>\n",
       "    <tr>\n",
       "      <th>0</th>\n",
       "      <td>-8.67</td>\n",
       "      <td>-25.56</td>\n",
       "      <td>21</td>\n",
       "      <td>13.14</td>\n",
       "      <td>-7.45</td>\n",
       "      <td>5.55</td>\n",
       "      <td>10.29</td>\n",
       "      <td>-30.98</td>\n",
       "      <td>-476.72</td>\n",
       "      <td>2</td>\n",
       "      <td>-1.17</td>\n",
       "      <td>61.66</td>\n",
       "      <td>0.23</td>\n",
       "      <td>3.76</td>\n",
       "      <td>NaN</td>\n",
       "    </tr>\n",
       "    <tr>\n",
       "      <th>1</th>\n",
       "      <td>-8.31</td>\n",
       "      <td>-29.19</td>\n",
       "      <td>10</td>\n",
       "      <td>12.16</td>\n",
       "      <td>-7.66</td>\n",
       "      <td>5.22</td>\n",
       "      <td>10.22</td>\n",
       "      <td>-30.98</td>\n",
       "      <td>-422.72</td>\n",
       "      <td>2</td>\n",
       "      <td>-0.96</td>\n",
       "      <td>79.66</td>\n",
       "      <td>0.02</td>\n",
       "      <td>1.22</td>\n",
       "      <td>NaN</td>\n",
       "    </tr>\n",
       "    <tr>\n",
       "      <th>2</th>\n",
       "      <td>-0.84</td>\n",
       "      <td>-25.29</td>\n",
       "      <td>110</td>\n",
       "      <td>12.34</td>\n",
       "      <td>-3.72</td>\n",
       "      <td>20.70</td>\n",
       "      <td>17.32</td>\n",
       "      <td>-76.98</td>\n",
       "      <td>-778.72</td>\n",
       "      <td>20</td>\n",
       "      <td>11.10</td>\n",
       "      <td>-20.34</td>\n",
       "      <td>5.75</td>\n",
       "      <td>-1.97</td>\n",
       "      <td>NaN</td>\n",
       "    </tr>\n",
       "    <tr>\n",
       "      <th>3</th>\n",
       "      <td>0.90</td>\n",
       "      <td>-14.94</td>\n",
       "      <td>120</td>\n",
       "      <td>9.44</td>\n",
       "      <td>-3.44</td>\n",
       "      <td>28.05</td>\n",
       "      <td>15.52</td>\n",
       "      <td>-56.98</td>\n",
       "      <td>-858.72</td>\n",
       "      <td>20</td>\n",
       "      <td>6.33</td>\n",
       "      <td>229.66</td>\n",
       "      <td>8.05</td>\n",
       "      <td>-1.77</td>\n",
       "      <td>NaN</td>\n",
       "    </tr>\n",
       "    <tr>\n",
       "      <th>4</th>\n",
       "      <td>-0.33</td>\n",
       "      <td>-9.60</td>\n",
       "      <td>345</td>\n",
       "      <td>14.26</td>\n",
       "      <td>-3.32</td>\n",
       "      <td>34.80</td>\n",
       "      <td>15.07</td>\n",
       "      <td>-36.98</td>\n",
       "      <td>-458.72</td>\n",
       "      <td>20</td>\n",
       "      <td>12.18</td>\n",
       "      <td>129.66</td>\n",
       "      <td>9.80</td>\n",
       "      <td>-2.17</td>\n",
       "      <td>NaN</td>\n",
       "    </tr>\n",
       "  </tbody>\n",
       "</table>\n",
       "</div>"
      ],
      "text/plain": [
       "     F1     F2   F3     F4    F5     F6     F7     F8      F9  F10    F11  \\\n",
       "0 -8.67 -25.56   21  13.14 -7.45   5.55  10.29 -30.98 -476.72    2  -1.17   \n",
       "1 -8.31 -29.19   10  12.16 -7.66   5.22  10.22 -30.98 -422.72    2  -0.96   \n",
       "2 -0.84 -25.29  110  12.34 -3.72  20.70  17.32 -76.98 -778.72   20  11.10   \n",
       "3  0.90 -14.94  120   9.44 -3.44  28.05  15.52 -56.98 -858.72   20   6.33   \n",
       "4 -0.33  -9.60  345  14.26 -3.32  34.80  15.07 -36.98 -458.72   20  12.18   \n",
       "\n",
       "      F12   F13   F14  Class  \n",
       "0   61.66  0.23  3.76    NaN  \n",
       "1   79.66  0.02  1.22    NaN  \n",
       "2  -20.34  5.75 -1.97    NaN  \n",
       "3  229.66  8.05 -1.77    NaN  \n",
       "4  129.66  9.80 -2.17    NaN  "
      ]
     },
     "execution_count": 14,
     "metadata": {},
     "output_type": "execute_result"
    }
   ],
   "source": [
    "# dropping the column with missing values\n",
    "df_p2_test = df_p2_test.drop(df_p2_test.columns[14], axis=1)\n",
    "df_p2_test.head()\n",
    "#df_p2_test_feature.fillna(df_p2_test_feature.mean(), inplace=True)"
   ]
  },
  {
   "cell_type": "code",
   "execution_count": 15,
   "id": "77ffca47",
   "metadata": {},
   "outputs": [
    {
     "name": "stdout",
     "output_type": "stream",
     "text": [
      "     F1     F2   F3     F4    F5     F6     F7     F8      F9  F10    F11  \\\n",
      "0 -8.67 -25.56   21  13.14 -7.45   5.55  10.29 -30.98 -476.72    2  -1.17   \n",
      "1 -8.31 -29.19   10  12.16 -7.66   5.22  10.22 -30.98 -422.72    2  -0.96   \n",
      "2 -0.84 -25.29  110  12.34 -3.72  20.70  17.32 -76.98 -778.72   20  11.10   \n",
      "3  0.90 -14.94  120   9.44 -3.44  28.05  15.52 -56.98 -858.72   20   6.33   \n",
      "4 -0.33  -9.60  345  14.26 -3.32  34.80  15.07 -36.98 -458.72   20  12.18   \n",
      "\n",
      "      F12   F13   F14  \n",
      "0   61.66  0.23  3.76  \n",
      "1   79.66  0.02  1.22  \n",
      "2  -20.34  5.75 -1.97  \n",
      "3  229.66  8.05 -1.77  \n",
      "4  129.66  9.80 -2.17  \n",
      "0   NaN\n",
      "1   NaN\n",
      "2   NaN\n",
      "3   NaN\n",
      "4   NaN\n",
      "Name: Class, dtype: float64\n"
     ]
    }
   ],
   "source": [
    "# seperating the predictor and response variables for test data\n",
    "df_p2_test_feature=df_p2_test.drop(['Class'],axis=1)\n",
    "df_p2_test_outcome=df_p2_test['Class']\n",
    "print(df_p2_test_feature.head())\n",
    "print(df_p2_test_outcome.head())"
   ]
  },
  {
   "cell_type": "code",
   "execution_count": 16,
   "id": "fcfa7146",
   "metadata": {},
   "outputs": [
    {
     "data": {
      "text/plain": [
       "F1     0\n",
       "F2     0\n",
       "F3     0\n",
       "F4     0\n",
       "F5     0\n",
       "F6     0\n",
       "F7     0\n",
       "F8     0\n",
       "F9     0\n",
       "F10    0\n",
       "F11    0\n",
       "F12    0\n",
       "F13    0\n",
       "F14    0\n",
       "dtype: int64"
      ]
     },
     "execution_count": 16,
     "metadata": {},
     "output_type": "execute_result"
    }
   ],
   "source": [
    "df_p2_test_feature.isnull().sum()"
   ]
  },
  {
   "cell_type": "code",
   "execution_count": 17,
   "id": "d43502f7",
   "metadata": {},
   "outputs": [],
   "source": [
    "from sklearn.model_selection import train_test_split\n",
    "X_train, X_test, y_train, y_test = train_test_split(df_p2_feature, df_p2_outcome, test_size=0.3,stratify=df_p2_outcome,random_state=20)"
   ]
  },
  {
   "cell_type": "markdown",
   "id": "bfb52b51",
   "metadata": {},
   "source": [
    "# Decision Tree Classifier"
   ]
  },
  {
   "cell_type": "code",
   "execution_count": 18,
   "id": "749ca91c",
   "metadata": {},
   "outputs": [
    {
     "data": {
      "text/plain": [
       "DecisionTreeClassifier()"
      ]
     },
     "execution_count": 18,
     "metadata": {},
     "output_type": "execute_result"
    }
   ],
   "source": [
    "from sklearn import tree\n",
    "from sklearn.tree import DecisionTreeClassifier\n",
    "from sklearn.metrics import confusion_matrix, accuracy_score\n",
    "# Creating Decision Tree classifier object\n",
    "dt_clf = DecisionTreeClassifier()\n",
    "# Training Decision Tree Classifier\n",
    "dt_clf.fit(X_train,y_train)"
   ]
  },
  {
   "cell_type": "code",
   "execution_count": 19,
   "id": "ec732488",
   "metadata": {},
   "outputs": [],
   "source": [
    "y_train_pred = dt_clf.predict(X_train)\n",
    "y_test_pred = dt_clf.predict(X_test)"
   ]
  },
  {
   "cell_type": "code",
   "execution_count": 20,
   "id": "3ca68212",
   "metadata": {},
   "outputs": [
    {
     "name": "stdout",
     "output_type": "stream",
     "text": [
      "Train Accuracy : 1.0\n",
      "Train Confusion Matrix:\n",
      "[[566   0]\n",
      " [  0 484]]\n",
      "--------------------------------------------------\n",
      "Test Accuracy : 0.7822222222222223\n",
      "Test Confusion Matrix:\n",
      "[[203  40]\n",
      " [ 58 149]]\n"
     ]
    }
   ],
   "source": [
    "print(\"Train Accuracy :\", accuracy_score(y_train, y_train_pred))\n",
    "print(\"Train Confusion Matrix:\")\n",
    "print(confusion_matrix(y_train, y_train_pred))\n",
    "print(\"-\"*50)\n",
    "print(\"Test Accuracy :\", accuracy_score(y_test, y_test_pred))\n",
    "print(\"Test Confusion Matrix:\")\n",
    "print(confusion_matrix(y_test, y_test_pred))"
   ]
  },
  {
   "cell_type": "code",
   "execution_count": 21,
   "id": "15f7f866",
   "metadata": {},
   "outputs": [
    {
     "name": "stdout",
     "output_type": "stream",
     "text": [
      "Fitting 4 folds for each of 25 candidates, totalling 100 fits\n"
     ]
    },
    {
     "name": "stderr",
     "output_type": "stream",
     "text": [
      "[Parallel(n_jobs=-1)]: Using backend LokyBackend with 8 concurrent workers.\n",
      "[Parallel(n_jobs=-1)]: Done  34 tasks      | elapsed:    2.1s\n",
      "[Parallel(n_jobs=-1)]: Done 100 out of 100 | elapsed:    2.2s finished\n"
     ]
    },
    {
     "data": {
      "text/plain": [
       "GridSearchCV(cv=4, estimator=DecisionTreeClassifier(), n_jobs=-1,\n",
       "             param_grid={'max_depth': [3, 5, 7, 13, 18],\n",
       "                         'min_samples_leaf': [5, 15, 25, 35, 75]},\n",
       "             scoring='accuracy', verbose=1)"
      ]
     },
     "execution_count": 21,
     "metadata": {},
     "output_type": "execute_result"
    }
   ],
   "source": [
    "# Using grid search CV to find optimal parameters.\n",
    "from sklearn.model_selection import GridSearchCV\n",
    "params = {\n",
    "    'max_depth': [3, 5, 7, 13, 18],\n",
    "    'min_samples_leaf': [5, 15, 25, 35, 75]\n",
    "}\n",
    "dt_grid_searchcv = GridSearchCV(estimator=dt_clf, \n",
    "                           param_grid=params, \n",
    "                           cv=4, n_jobs=-1, verbose=1, scoring = \"accuracy\")\n",
    "dt_grid_searchcv.fit(X_train, y_train)"
   ]
  },
  {
   "cell_type": "code",
   "execution_count": 22,
   "id": "f3f8bacb",
   "metadata": {},
   "outputs": [
    {
     "data": {
      "text/plain": [
       "DecisionTreeClassifier(max_depth=7, min_samples_leaf=5)"
      ]
     },
     "execution_count": 22,
     "metadata": {},
     "output_type": "execute_result"
    }
   ],
   "source": [
    "dt_grid_searchcv.best_estimator_"
   ]
  },
  {
   "cell_type": "code",
   "execution_count": 23,
   "id": "092057a7",
   "metadata": {},
   "outputs": [
    {
     "data": {
      "text/plain": [
       "DecisionTreeClassifier(max_depth=18, min_samples_leaf=5)"
      ]
     },
     "execution_count": 23,
     "metadata": {},
     "output_type": "execute_result"
    }
   ],
   "source": [
    "dt_grid_model=DecisionTreeClassifier(max_depth=18, min_samples_leaf=5)\n",
    "dt_grid_model.fit(X_train,y_train)"
   ]
  },
  {
   "cell_type": "code",
   "execution_count": 24,
   "id": "fcccc767",
   "metadata": {},
   "outputs": [
    {
     "data": {
      "text/plain": [
       "array([ True, False,  True, False,  True,  True, False,  True, False])"
      ]
     },
     "execution_count": 24,
     "metadata": {},
     "output_type": "execute_result"
    }
   ],
   "source": [
    "# predictions on y_test\n",
    "y_test_predct = dt_grid_model.predict(X_test)\n",
    "y_test_predct[1:10]"
   ]
  },
  {
   "cell_type": "code",
   "execution_count": 25,
   "id": "57fd45ed",
   "metadata": {},
   "outputs": [
    {
     "name": "stdout",
     "output_type": "stream",
     "text": [
      "--------------------------------------------------\n",
      "Test Accuracy : 0.7977777777777778\n",
      "Test Confusion Matrix:\n",
      "[[203  40]\n",
      " [ 51 156]]\n"
     ]
    }
   ],
   "source": [
    "print(\"-\"*50)\n",
    "print(\"Test Accuracy :\", accuracy_score(y_test, y_test_predct))\n",
    "print(\"Test Confusion Matrix:\")\n",
    "print(confusion_matrix(y_test, y_test_predct))"
   ]
  },
  {
   "cell_type": "code",
   "execution_count": 26,
   "id": "491cf2ed",
   "metadata": {},
   "outputs": [
    {
     "data": {
      "text/plain": [
       "array([ True, False,  True, ..., False,  True, False])"
      ]
     },
     "execution_count": 26,
     "metadata": {},
     "output_type": "execute_result"
    }
   ],
   "source": [
    "# prediction on unseen data set\n",
    "new_predct = dt_grid_model.predict(df_p2_test_feature)\n",
    "new_predct"
   ]
  },
  {
   "cell_type": "code",
   "execution_count": 27,
   "id": "b8dd35e0",
   "metadata": {},
   "outputs": [
    {
     "name": "stdout",
     "output_type": "stream",
     "text": [
      "Accuracy: 0.7977777777777778\n"
     ]
    }
   ],
   "source": [
    "from sklearn import metrics\n",
    "print(\"Accuracy:\", metrics.accuracy_score(y_test, y_test_predct))\n"
   ]
  },
  {
   "cell_type": "markdown",
   "id": "e7febeb8",
   "metadata": {},
   "source": [
    "# Random Forest Classifier"
   ]
  },
  {
   "cell_type": "code",
   "execution_count": 28,
   "id": "677fb1a4",
   "metadata": {},
   "outputs": [],
   "source": [
    "from sklearn import model_selection\n",
    "from sklearn.ensemble import RandomForestClassifier\n",
    "from sklearn.model_selection import cross_val_score"
   ]
  },
  {
   "cell_type": "code",
   "execution_count": 29,
   "id": "96c96a37",
   "metadata": {},
   "outputs": [
    {
     "data": {
      "text/plain": [
       "RandomForestClassifier(random_state=20)"
      ]
     },
     "execution_count": 29,
     "metadata": {},
     "output_type": "execute_result"
    }
   ],
   "source": [
    "# implementing the random forest classifier\n",
    "rfc = RandomForestClassifier(random_state=20)\n",
    "rfc.fit(X_train,y_train)"
   ]
  },
  {
   "cell_type": "code",
   "execution_count": 30,
   "id": "c9705a09",
   "metadata": {},
   "outputs": [
    {
     "data": {
      "text/plain": [
       "array([ True, False,  True, False,  True,  True,  True, False, False])"
      ]
     },
     "execution_count": 30,
     "metadata": {},
     "output_type": "execute_result"
    }
   ],
   "source": [
    "# Predicting the values\n",
    "ypred_rfc = rfc.predict(X_test)\n",
    "ypred_rfc[1:10]"
   ]
  },
  {
   "cell_type": "code",
   "execution_count": 31,
   "id": "5c90a3a6",
   "metadata": {},
   "outputs": [
    {
     "name": "stdout",
     "output_type": "stream",
     "text": [
      "=== Accuracy ===\n",
      "0.8577777777777778\n"
     ]
    }
   ],
   "source": [
    "print(\"=== Accuracy ===\")\n",
    "print(accuracy_score(y_test, ypred_rfc))"
   ]
  },
  {
   "cell_type": "code",
   "execution_count": 32,
   "id": "048ef199",
   "metadata": {},
   "outputs": [
    {
     "name": "stdout",
     "output_type": "stream",
     "text": [
      "Fitting 3 folds for each of 100 candidates, totalling 300 fits\n"
     ]
    },
    {
     "name": "stderr",
     "output_type": "stream",
     "text": [
      "[Parallel(n_jobs=-1)]: Using backend LokyBackend with 8 concurrent workers.\n",
      "[Parallel(n_jobs=-1)]: Done  25 tasks      | elapsed:    8.9s\n",
      "[Parallel(n_jobs=-1)]: Done 146 tasks      | elapsed:  1.2min\n",
      "[Parallel(n_jobs=-1)]: Done 300 out of 300 | elapsed:  2.7min finished\n"
     ]
    },
    {
     "data": {
      "text/plain": [
       "RandomizedSearchCV(cv=3, estimator=RandomForestClassifier(random_state=20),\n",
       "                   n_iter=100, n_jobs=-1,\n",
       "                   param_distributions={'max_depth': [100, 140, 180, 220, 260,\n",
       "                                                      300, 340, 380, 420, 460,\n",
       "                                                      500, None],\n",
       "                                        'max_features': ['auto', 'sqrt'],\n",
       "                                        'n_estimators': [200, 400, 600, 800,\n",
       "                                                         1000, 1200, 1400, 1600,\n",
       "                                                         1800, 2000]},\n",
       "                   random_state=20, verbose=2)"
      ]
     },
     "execution_count": 32,
     "metadata": {},
     "output_type": "execute_result"
    }
   ],
   "source": [
    "#using random search cv for optimal values\n",
    "from sklearn.model_selection import RandomizedSearchCV\n",
    "n_estimators = [int(x) for x in np.linspace(start = 200, stop = 2000, num = 10)]\n",
    "max_features = ['auto', 'sqrt'] \n",
    "max_depth = [int(x) for x in np.linspace(100, 500, num = 11)]\n",
    "max_depth.append(None)\n",
    "random_grid = {\n",
    " 'n_estimators': n_estimators,\n",
    " 'max_features': max_features,\n",
    " 'max_depth': max_depth\n",
    " }\n",
    "rfc_random = RandomizedSearchCV(estimator = rfc, param_distributions = random_grid, n_iter = 100, cv = 3, \n",
    "                                verbose=2, random_state=20, n_jobs = -1)\n",
    "rfc_random.fit(X_train, y_train)"
   ]
  },
  {
   "cell_type": "code",
   "execution_count": 33,
   "id": "b1625b7e",
   "metadata": {},
   "outputs": [
    {
     "name": "stdout",
     "output_type": "stream",
     "text": [
      "{'n_estimators': 800, 'max_features': 'sqrt', 'max_depth': None}\n"
     ]
    }
   ],
   "source": [
    "print(rfc_random.best_params_) #finding the best parameters"
   ]
  },
  {
   "cell_type": "code",
   "execution_count": 38,
   "id": "cbd98e07",
   "metadata": {},
   "outputs": [
    {
     "data": {
      "text/plain": [
       "array([ True, False,  True, False,  True,  True,  True,  True, False])"
      ]
     },
     "execution_count": 38,
     "metadata": {},
     "output_type": "execute_result"
    }
   ],
   "source": [
    "#evaluating the best paramenters of random forest\n",
    "rfc_random_best = RandomForestClassifier(n_estimators=800, max_features='sqrt',random_state=20)\n",
    "rfc_random_best.fit(X_train,y_train)\n",
    "rfc_random_best_prdct = rfc_random_best.predict(X_test)\n",
    "rfc_random_best_prdct[1:10]"
   ]
  },
  {
   "cell_type": "code",
   "execution_count": 39,
   "id": "acc506f0",
   "metadata": {},
   "outputs": [
    {
     "name": "stdout",
     "output_type": "stream",
     "text": [
      "[False  True False ...  True  True  True]\n"
     ]
    }
   ],
   "source": [
    "# predictions on unseen test set\n",
    "rf_pridct= rfc_random_best.predict(df_p2_test_feature)\n",
    "print(rf_pridct)"
   ]
  },
  {
   "cell_type": "code",
   "execution_count": 40,
   "id": "7ddcbf8a",
   "metadata": {},
   "outputs": [
    {
     "name": "stdout",
     "output_type": "stream",
     "text": [
      "*****Accuracy ********\n",
      "0.8777777777777778\n"
     ]
    }
   ],
   "source": [
    "print(\"*****Accuracy ********\")\n",
    "print(accuracy_score(y_test, rfc_random_best_prdct))"
   ]
  },
  {
   "cell_type": "markdown",
   "id": "8053139b",
   "metadata": {},
   "source": [
    "# SVM Classifier"
   ]
  },
  {
   "cell_type": "code",
   "execution_count": 41,
   "id": "30c6c8a1",
   "metadata": {},
   "outputs": [],
   "source": [
    "#Import svm model\n",
    "from sklearn import svm\n",
    "\n",
    "#Create a svm Classifier\n",
    "svm_clf = svm.SVC(kernel='linear') # Linear Kernel\n",
    "\n",
    "#Train the model using the training sets\n",
    "svm_clf.fit(X_train, y_train)\n",
    "\n",
    "#Predict the response for test dataset\n",
    "svm_y_pred = svm_clf.predict(X_test)"
   ]
  },
  {
   "cell_type": "code",
   "execution_count": 42,
   "id": "501f933f",
   "metadata": {},
   "outputs": [
    {
     "name": "stdout",
     "output_type": "stream",
     "text": [
      "Accuracy: 0.8466666666666667\n"
     ]
    }
   ],
   "source": [
    "from sklearn import metrics\n",
    "\n",
    "# Model Accuracy\n",
    "print(\"Accuracy:\",metrics.accuracy_score(y_test, svm_y_pred))"
   ]
  },
  {
   "cell_type": "code",
   "execution_count": 44,
   "id": "90653438",
   "metadata": {},
   "outputs": [
    {
     "name": "stdout",
     "output_type": "stream",
     "text": [
      "Fitting 5 folds for each of 25 candidates, totalling 125 fits\n",
      "[CV] C=0.2, gamma=2, kernel=rbf ......................................\n",
      "[CV] .......... C=0.2, gamma=2, kernel=rbf, score=0.538, total=   0.1s\n",
      "[CV] C=0.2, gamma=2, kernel=rbf ......................................\n",
      "[CV] .......... C=0.2, gamma=2, kernel=rbf, score=0.538, total=   0.1s\n",
      "[CV] C=0.2, gamma=2, kernel=rbf ......................................\n",
      "[CV] .......... C=0.2, gamma=2, kernel=rbf, score=0.538, total=   0.1s\n"
     ]
    },
    {
     "name": "stderr",
     "output_type": "stream",
     "text": [
      "[Parallel(n_jobs=1)]: Using backend SequentialBackend with 1 concurrent workers.\n",
      "[Parallel(n_jobs=1)]: Done   1 out of   1 | elapsed:    0.0s remaining:    0.0s\n",
      "[Parallel(n_jobs=1)]: Done   2 out of   2 | elapsed:    0.0s remaining:    0.0s\n"
     ]
    },
    {
     "name": "stdout",
     "output_type": "stream",
     "text": [
      "[CV] C=0.2, gamma=2, kernel=rbf ......................................\n",
      "[CV] .......... C=0.2, gamma=2, kernel=rbf, score=0.538, total=   0.1s\n",
      "[CV] C=0.2, gamma=2, kernel=rbf ......................................\n",
      "[CV] .......... C=0.2, gamma=2, kernel=rbf, score=0.543, total=   0.1s\n",
      "[CV] C=0.2, gamma=0.2, kernel=rbf ....................................\n",
      "[CV] ........ C=0.2, gamma=0.2, kernel=rbf, score=0.538, total=   0.1s\n",
      "[CV] C=0.2, gamma=0.2, kernel=rbf ....................................\n",
      "[CV] ........ C=0.2, gamma=0.2, kernel=rbf, score=0.538, total=   0.1s\n",
      "[CV] C=0.2, gamma=0.2, kernel=rbf ....................................\n",
      "[CV] ........ C=0.2, gamma=0.2, kernel=rbf, score=0.538, total=   0.1s\n",
      "[CV] C=0.2, gamma=0.2, kernel=rbf ....................................\n",
      "[CV] ........ C=0.2, gamma=0.2, kernel=rbf, score=0.538, total=   0.1s\n",
      "[CV] C=0.2, gamma=0.2, kernel=rbf ....................................\n",
      "[CV] ........ C=0.2, gamma=0.2, kernel=rbf, score=0.543, total=   0.1s\n",
      "[CV] C=0.2, gamma=0.02, kernel=rbf ...................................\n",
      "[CV] ....... C=0.2, gamma=0.02, kernel=rbf, score=0.538, total=   0.0s\n",
      "[CV] C=0.2, gamma=0.02, kernel=rbf ...................................\n",
      "[CV] ....... C=0.2, gamma=0.02, kernel=rbf, score=0.538, total=   0.1s\n",
      "[CV] C=0.2, gamma=0.02, kernel=rbf ...................................\n",
      "[CV] ....... C=0.2, gamma=0.02, kernel=rbf, score=0.538, total=   0.1s\n",
      "[CV] C=0.2, gamma=0.02, kernel=rbf ...................................\n",
      "[CV] ....... C=0.2, gamma=0.02, kernel=rbf, score=0.538, total=   0.0s\n",
      "[CV] C=0.2, gamma=0.02, kernel=rbf ...................................\n",
      "[CV] ....... C=0.2, gamma=0.02, kernel=rbf, score=0.543, total=   0.1s\n",
      "[CV] C=0.2, gamma=0.002, kernel=rbf ..................................\n",
      "[CV] ...... C=0.2, gamma=0.002, kernel=rbf, score=0.629, total=   0.0s\n",
      "[CV] C=0.2, gamma=0.002, kernel=rbf ..................................\n",
      "[CV] ...... C=0.2, gamma=0.002, kernel=rbf, score=0.595, total=   0.0s\n",
      "[CV] C=0.2, gamma=0.002, kernel=rbf ..................................\n",
      "[CV] ...... C=0.2, gamma=0.002, kernel=rbf, score=0.590, total=   0.0s\n",
      "[CV] C=0.2, gamma=0.002, kernel=rbf ..................................\n",
      "[CV] ...... C=0.2, gamma=0.002, kernel=rbf, score=0.595, total=   0.0s\n",
      "[CV] C=0.2, gamma=0.002, kernel=rbf ..................................\n",
      "[CV] ...... C=0.2, gamma=0.002, kernel=rbf, score=0.595, total=   0.0s\n",
      "[CV] C=0.2, gamma=0.0002, kernel=rbf .................................\n",
      "[CV] ..... C=0.2, gamma=0.0002, kernel=rbf, score=0.652, total=   0.0s\n",
      "[CV] C=0.2, gamma=0.0002, kernel=rbf .................................\n",
      "[CV] ..... C=0.2, gamma=0.0002, kernel=rbf, score=0.638, total=   0.0s\n",
      "[CV] C=0.2, gamma=0.0002, kernel=rbf .................................\n",
      "[CV] ..... C=0.2, gamma=0.0002, kernel=rbf, score=0.605, total=   0.0s\n",
      "[CV] C=0.2, gamma=0.0002, kernel=rbf .................................\n",
      "[CV] ..... C=0.2, gamma=0.0002, kernel=rbf, score=0.614, total=   0.0s\n",
      "[CV] C=0.2, gamma=0.0002, kernel=rbf .................................\n",
      "[CV] ..... C=0.2, gamma=0.0002, kernel=rbf, score=0.610, total=   0.0s\n",
      "[CV] C=2, gamma=2, kernel=rbf ........................................\n",
      "[CV] ............ C=2, gamma=2, kernel=rbf, score=0.538, total=   0.1s\n",
      "[CV] C=2, gamma=2, kernel=rbf ........................................\n",
      "[CV] ............ C=2, gamma=2, kernel=rbf, score=0.538, total=   0.1s\n",
      "[CV] C=2, gamma=2, kernel=rbf ........................................\n",
      "[CV] ............ C=2, gamma=2, kernel=rbf, score=0.538, total=   0.1s\n",
      "[CV] C=2, gamma=2, kernel=rbf ........................................\n",
      "[CV] ............ C=2, gamma=2, kernel=rbf, score=0.538, total=   0.1s\n",
      "[CV] C=2, gamma=2, kernel=rbf ........................................\n",
      "[CV] ............ C=2, gamma=2, kernel=rbf, score=0.543, total=   0.1s\n",
      "[CV] C=2, gamma=0.2, kernel=rbf ......................................\n",
      "[CV] .......... C=2, gamma=0.2, kernel=rbf, score=0.538, total=   0.1s\n",
      "[CV] C=2, gamma=0.2, kernel=rbf ......................................\n",
      "[CV] .......... C=2, gamma=0.2, kernel=rbf, score=0.538, total=   0.1s\n",
      "[CV] C=2, gamma=0.2, kernel=rbf ......................................\n",
      "[CV] .......... C=2, gamma=0.2, kernel=rbf, score=0.538, total=   0.1s\n",
      "[CV] C=2, gamma=0.2, kernel=rbf ......................................\n",
      "[CV] .......... C=2, gamma=0.2, kernel=rbf, score=0.538, total=   0.1s\n",
      "[CV] C=2, gamma=0.2, kernel=rbf ......................................\n",
      "[CV] .......... C=2, gamma=0.2, kernel=rbf, score=0.543, total=   0.1s\n",
      "[CV] C=2, gamma=0.02, kernel=rbf .....................................\n",
      "[CV] ......... C=2, gamma=0.02, kernel=rbf, score=0.605, total=   0.1s\n",
      "[CV] C=2, gamma=0.02, kernel=rbf .....................................\n",
      "[CV] ......... C=2, gamma=0.02, kernel=rbf, score=0.567, total=   0.1s\n",
      "[CV] C=2, gamma=0.02, kernel=rbf .....................................\n",
      "[CV] ......... C=2, gamma=0.02, kernel=rbf, score=0.586, total=   0.1s\n",
      "[CV] C=2, gamma=0.02, kernel=rbf .....................................\n",
      "[CV] ......... C=2, gamma=0.02, kernel=rbf, score=0.590, total=   0.1s\n",
      "[CV] C=2, gamma=0.02, kernel=rbf .....................................\n",
      "[CV] ......... C=2, gamma=0.02, kernel=rbf, score=0.590, total=   0.1s\n",
      "[CV] C=2, gamma=0.002, kernel=rbf ....................................\n",
      "[CV] ........ C=2, gamma=0.002, kernel=rbf, score=0.705, total=   0.0s\n",
      "[CV] C=2, gamma=0.002, kernel=rbf ....................................\n",
      "[CV] ........ C=2, gamma=0.002, kernel=rbf, score=0.657, total=   0.1s\n",
      "[CV] C=2, gamma=0.002, kernel=rbf ....................................\n",
      "[CV] ........ C=2, gamma=0.002, kernel=rbf, score=0.638, total=   0.0s\n",
      "[CV] C=2, gamma=0.002, kernel=rbf ....................................\n",
      "[CV] ........ C=2, gamma=0.002, kernel=rbf, score=0.624, total=   0.0s\n",
      "[CV] C=2, gamma=0.002, kernel=rbf ....................................\n",
      "[CV] ........ C=2, gamma=0.002, kernel=rbf, score=0.657, total=   0.0s\n",
      "[CV] C=2, gamma=0.0002, kernel=rbf ...................................\n",
      "[CV] ....... C=2, gamma=0.0002, kernel=rbf, score=0.652, total=   0.0s\n",
      "[CV] C=2, gamma=0.0002, kernel=rbf ...................................\n",
      "[CV] ....... C=2, gamma=0.0002, kernel=rbf, score=0.614, total=   0.0s\n",
      "[CV] C=2, gamma=0.0002, kernel=rbf ...................................\n",
      "[CV] ....... C=2, gamma=0.0002, kernel=rbf, score=0.638, total=   0.0s\n",
      "[CV] C=2, gamma=0.0002, kernel=rbf ...................................\n",
      "[CV] ....... C=2, gamma=0.0002, kernel=rbf, score=0.652, total=   0.0s\n",
      "[CV] C=2, gamma=0.0002, kernel=rbf ...................................\n",
      "[CV] ....... C=2, gamma=0.0002, kernel=rbf, score=0.624, total=   0.0s\n",
      "[CV] C=15, gamma=2, kernel=rbf .......................................\n",
      "[CV] ........... C=15, gamma=2, kernel=rbf, score=0.538, total=   0.1s\n",
      "[CV] C=15, gamma=2, kernel=rbf .......................................\n",
      "[CV] ........... C=15, gamma=2, kernel=rbf, score=0.538, total=   0.1s\n",
      "[CV] C=15, gamma=2, kernel=rbf .......................................\n",
      "[CV] ........... C=15, gamma=2, kernel=rbf, score=0.538, total=   0.1s\n",
      "[CV] C=15, gamma=2, kernel=rbf .......................................\n",
      "[CV] ........... C=15, gamma=2, kernel=rbf, score=0.538, total=   0.1s\n",
      "[CV] C=15, gamma=2, kernel=rbf .......................................\n",
      "[CV] ........... C=15, gamma=2, kernel=rbf, score=0.543, total=   0.1s\n",
      "[CV] C=15, gamma=0.2, kernel=rbf .....................................\n",
      "[CV] ......... C=15, gamma=0.2, kernel=rbf, score=0.538, total=   0.1s\n",
      "[CV] C=15, gamma=0.2, kernel=rbf .....................................\n",
      "[CV] ......... C=15, gamma=0.2, kernel=rbf, score=0.538, total=   0.1s\n",
      "[CV] C=15, gamma=0.2, kernel=rbf .....................................\n",
      "[CV] ......... C=15, gamma=0.2, kernel=rbf, score=0.538, total=   0.1s\n",
      "[CV] C=15, gamma=0.2, kernel=rbf .....................................\n",
      "[CV] ......... C=15, gamma=0.2, kernel=rbf, score=0.538, total=   0.1s\n",
      "[CV] C=15, gamma=0.2, kernel=rbf .....................................\n",
      "[CV] ......... C=15, gamma=0.2, kernel=rbf, score=0.543, total=   0.1s\n",
      "[CV] C=15, gamma=0.02, kernel=rbf ....................................\n",
      "[CV] ........ C=15, gamma=0.02, kernel=rbf, score=0.605, total=   0.1s\n",
      "[CV] C=15, gamma=0.02, kernel=rbf ....................................\n",
      "[CV] ........ C=15, gamma=0.02, kernel=rbf, score=0.567, total=   0.1s\n",
      "[CV] C=15, gamma=0.02, kernel=rbf ....................................\n"
     ]
    },
    {
     "name": "stdout",
     "output_type": "stream",
     "text": [
      "[CV] ........ C=15, gamma=0.02, kernel=rbf, score=0.586, total=   0.1s\n",
      "[CV] C=15, gamma=0.02, kernel=rbf ....................................\n",
      "[CV] ........ C=15, gamma=0.02, kernel=rbf, score=0.590, total=   0.1s\n",
      "[CV] C=15, gamma=0.02, kernel=rbf ....................................\n",
      "[CV] ........ C=15, gamma=0.02, kernel=rbf, score=0.590, total=   0.1s\n",
      "[CV] C=15, gamma=0.002, kernel=rbf ...................................\n",
      "[CV] ....... C=15, gamma=0.002, kernel=rbf, score=0.705, total=   0.0s\n",
      "[CV] C=15, gamma=0.002, kernel=rbf ...................................\n",
      "[CV] ....... C=15, gamma=0.002, kernel=rbf, score=0.624, total=   0.0s\n",
      "[CV] C=15, gamma=0.002, kernel=rbf ...................................\n",
      "[CV] ....... C=15, gamma=0.002, kernel=rbf, score=0.610, total=   0.1s\n",
      "[CV] C=15, gamma=0.002, kernel=rbf ...................................\n",
      "[CV] ....... C=15, gamma=0.002, kernel=rbf, score=0.657, total=   0.1s\n",
      "[CV] C=15, gamma=0.002, kernel=rbf ...................................\n",
      "[CV] ....... C=15, gamma=0.002, kernel=rbf, score=0.681, total=   0.1s\n",
      "[CV] C=15, gamma=0.0002, kernel=rbf ..................................\n",
      "[CV] ...... C=15, gamma=0.0002, kernel=rbf, score=0.624, total=   0.0s\n",
      "[CV] C=15, gamma=0.0002, kernel=rbf ..................................\n",
      "[CV] ...... C=15, gamma=0.0002, kernel=rbf, score=0.648, total=   0.0s\n",
      "[CV] C=15, gamma=0.0002, kernel=rbf ..................................\n",
      "[CV] ...... C=15, gamma=0.0002, kernel=rbf, score=0.638, total=   0.0s\n",
      "[CV] C=15, gamma=0.0002, kernel=rbf ..................................\n",
      "[CV] ...... C=15, gamma=0.0002, kernel=rbf, score=0.657, total=   0.0s\n",
      "[CV] C=15, gamma=0.0002, kernel=rbf ..................................\n",
      "[CV] ...... C=15, gamma=0.0002, kernel=rbf, score=0.676, total=   0.1s\n",
      "[CV] C=75, gamma=2, kernel=rbf .......................................\n",
      "[CV] ........... C=75, gamma=2, kernel=rbf, score=0.538, total=   0.1s\n",
      "[CV] C=75, gamma=2, kernel=rbf .......................................\n",
      "[CV] ........... C=75, gamma=2, kernel=rbf, score=0.538, total=   0.1s\n",
      "[CV] C=75, gamma=2, kernel=rbf .......................................\n",
      "[CV] ........... C=75, gamma=2, kernel=rbf, score=0.538, total=   0.1s\n",
      "[CV] C=75, gamma=2, kernel=rbf .......................................\n",
      "[CV] ........... C=75, gamma=2, kernel=rbf, score=0.538, total=   0.1s\n",
      "[CV] C=75, gamma=2, kernel=rbf .......................................\n",
      "[CV] ........... C=75, gamma=2, kernel=rbf, score=0.543, total=   0.1s\n",
      "[CV] C=75, gamma=0.2, kernel=rbf .....................................\n",
      "[CV] ......... C=75, gamma=0.2, kernel=rbf, score=0.538, total=   0.1s\n",
      "[CV] C=75, gamma=0.2, kernel=rbf .....................................\n",
      "[CV] ......... C=75, gamma=0.2, kernel=rbf, score=0.538, total=   0.1s\n",
      "[CV] C=75, gamma=0.2, kernel=rbf .....................................\n",
      "[CV] ......... C=75, gamma=0.2, kernel=rbf, score=0.538, total=   0.1s\n",
      "[CV] C=75, gamma=0.2, kernel=rbf .....................................\n",
      "[CV] ......... C=75, gamma=0.2, kernel=rbf, score=0.538, total=   0.1s\n",
      "[CV] C=75, gamma=0.2, kernel=rbf .....................................\n",
      "[CV] ......... C=75, gamma=0.2, kernel=rbf, score=0.543, total=   0.1s\n",
      "[CV] C=75, gamma=0.02, kernel=rbf ....................................\n",
      "[CV] ........ C=75, gamma=0.02, kernel=rbf, score=0.605, total=   0.1s\n",
      "[CV] C=75, gamma=0.02, kernel=rbf ....................................\n",
      "[CV] ........ C=75, gamma=0.02, kernel=rbf, score=0.567, total=   0.1s\n",
      "[CV] C=75, gamma=0.02, kernel=rbf ....................................\n",
      "[CV] ........ C=75, gamma=0.02, kernel=rbf, score=0.586, total=   0.1s\n",
      "[CV] C=75, gamma=0.02, kernel=rbf ....................................\n",
      "[CV] ........ C=75, gamma=0.02, kernel=rbf, score=0.590, total=   0.1s\n",
      "[CV] C=75, gamma=0.02, kernel=rbf ....................................\n",
      "[CV] ........ C=75, gamma=0.02, kernel=rbf, score=0.590, total=   0.1s\n",
      "[CV] C=75, gamma=0.002, kernel=rbf ...................................\n",
      "[CV] ....... C=75, gamma=0.002, kernel=rbf, score=0.671, total=   0.1s\n",
      "[CV] C=75, gamma=0.002, kernel=rbf ...................................\n",
      "[CV] ....... C=75, gamma=0.002, kernel=rbf, score=0.619, total=   0.1s\n",
      "[CV] C=75, gamma=0.002, kernel=rbf ...................................\n",
      "[CV] ....... C=75, gamma=0.002, kernel=rbf, score=0.590, total=   0.1s\n",
      "[CV] C=75, gamma=0.002, kernel=rbf ...................................\n",
      "[CV] ....... C=75, gamma=0.002, kernel=rbf, score=0.619, total=   0.1s\n",
      "[CV] C=75, gamma=0.002, kernel=rbf ...................................\n",
      "[CV] ....... C=75, gamma=0.002, kernel=rbf, score=0.648, total=   0.1s\n",
      "[CV] C=75, gamma=0.0002, kernel=rbf ..................................\n",
      "[CV] ...... C=75, gamma=0.0002, kernel=rbf, score=0.700, total=   0.1s\n",
      "[CV] C=75, gamma=0.0002, kernel=rbf ..................................\n",
      "[CV] ...... C=75, gamma=0.0002, kernel=rbf, score=0.686, total=   0.1s\n",
      "[CV] C=75, gamma=0.0002, kernel=rbf ..................................\n",
      "[CV] ...... C=75, gamma=0.0002, kernel=rbf, score=0.638, total=   0.1s\n",
      "[CV] C=75, gamma=0.0002, kernel=rbf ..................................\n",
      "[CV] ...... C=75, gamma=0.0002, kernel=rbf, score=0.705, total=   0.1s\n",
      "[CV] C=75, gamma=0.0002, kernel=rbf ..................................\n",
      "[CV] ...... C=75, gamma=0.0002, kernel=rbf, score=0.729, total=   0.1s\n",
      "[CV] C=750, gamma=2, kernel=rbf ......................................\n",
      "[CV] .......... C=750, gamma=2, kernel=rbf, score=0.538, total=   0.1s\n",
      "[CV] C=750, gamma=2, kernel=rbf ......................................\n",
      "[CV] .......... C=750, gamma=2, kernel=rbf, score=0.538, total=   0.1s\n",
      "[CV] C=750, gamma=2, kernel=rbf ......................................\n",
      "[CV] .......... C=750, gamma=2, kernel=rbf, score=0.538, total=   0.1s\n",
      "[CV] C=750, gamma=2, kernel=rbf ......................................\n",
      "[CV] .......... C=750, gamma=2, kernel=rbf, score=0.538, total=   0.1s\n",
      "[CV] C=750, gamma=2, kernel=rbf ......................................\n",
      "[CV] .......... C=750, gamma=2, kernel=rbf, score=0.543, total=   0.1s\n",
      "[CV] C=750, gamma=0.2, kernel=rbf ....................................\n",
      "[CV] ........ C=750, gamma=0.2, kernel=rbf, score=0.538, total=   0.1s\n",
      "[CV] C=750, gamma=0.2, kernel=rbf ....................................\n",
      "[CV] ........ C=750, gamma=0.2, kernel=rbf, score=0.538, total=   0.1s\n",
      "[CV] C=750, gamma=0.2, kernel=rbf ....................................\n",
      "[CV] ........ C=750, gamma=0.2, kernel=rbf, score=0.538, total=   0.1s\n",
      "[CV] C=750, gamma=0.2, kernel=rbf ....................................\n",
      "[CV] ........ C=750, gamma=0.2, kernel=rbf, score=0.538, total=   0.1s\n",
      "[CV] C=750, gamma=0.2, kernel=rbf ....................................\n",
      "[CV] ........ C=750, gamma=0.2, kernel=rbf, score=0.543, total=   0.1s\n",
      "[CV] C=750, gamma=0.02, kernel=rbf ...................................\n",
      "[CV] ....... C=750, gamma=0.02, kernel=rbf, score=0.605, total=   0.1s\n",
      "[CV] C=750, gamma=0.02, kernel=rbf ...................................\n",
      "[CV] ....... C=750, gamma=0.02, kernel=rbf, score=0.567, total=   0.1s\n",
      "[CV] C=750, gamma=0.02, kernel=rbf ...................................\n",
      "[CV] ....... C=750, gamma=0.02, kernel=rbf, score=0.586, total=   0.1s\n",
      "[CV] C=750, gamma=0.02, kernel=rbf ...................................\n",
      "[CV] ....... C=750, gamma=0.02, kernel=rbf, score=0.590, total=   0.1s\n",
      "[CV] C=750, gamma=0.02, kernel=rbf ...................................\n",
      "[CV] ....... C=750, gamma=0.02, kernel=rbf, score=0.590, total=   0.1s\n",
      "[CV] C=750, gamma=0.002, kernel=rbf ..................................\n",
      "[CV] ...... C=750, gamma=0.002, kernel=rbf, score=0.671, total=   0.1s\n",
      "[CV] C=750, gamma=0.002, kernel=rbf ..................................\n",
      "[CV] ...... C=750, gamma=0.002, kernel=rbf, score=0.619, total=   0.1s\n",
      "[CV] C=750, gamma=0.002, kernel=rbf ..................................\n",
      "[CV] ...... C=750, gamma=0.002, kernel=rbf, score=0.581, total=   0.0s\n",
      "[CV] C=750, gamma=0.002, kernel=rbf ..................................\n",
      "[CV] ...... C=750, gamma=0.002, kernel=rbf, score=0.610, total=   0.0s\n",
      "[CV] C=750, gamma=0.002, kernel=rbf ..................................\n",
      "[CV] ...... C=750, gamma=0.002, kernel=rbf, score=0.652, total=   0.1s\n",
      "[CV] C=750, gamma=0.0002, kernel=rbf .................................\n"
     ]
    },
    {
     "name": "stdout",
     "output_type": "stream",
     "text": [
      "[CV] ..... C=750, gamma=0.0002, kernel=rbf, score=0.743, total=   0.2s\n",
      "[CV] C=750, gamma=0.0002, kernel=rbf .................................\n",
      "[CV] ..... C=750, gamma=0.0002, kernel=rbf, score=0.733, total=   0.2s\n",
      "[CV] C=750, gamma=0.0002, kernel=rbf .................................\n",
      "[CV] ..... C=750, gamma=0.0002, kernel=rbf, score=0.695, total=   0.2s\n",
      "[CV] C=750, gamma=0.0002, kernel=rbf .................................\n",
      "[CV] ..... C=750, gamma=0.0002, kernel=rbf, score=0.738, total=   0.2s\n",
      "[CV] C=750, gamma=0.0002, kernel=rbf .................................\n",
      "[CV] ..... C=750, gamma=0.0002, kernel=rbf, score=0.748, total=   0.2s\n"
     ]
    },
    {
     "name": "stderr",
     "output_type": "stream",
     "text": [
      "[Parallel(n_jobs=1)]: Done 125 out of 125 | elapsed:    8.8s finished\n"
     ]
    },
    {
     "data": {
      "text/plain": [
       "GridSearchCV(estimator=SVC(),\n",
       "             param_grid={'C': [0.2, 2, 15, 75, 750],\n",
       "                         'gamma': [2, 0.2, 0.02, 0.002, 0.0002],\n",
       "                         'kernel': ['rbf']},\n",
       "             verbose=3)"
      ]
     },
     "execution_count": 44,
     "metadata": {},
     "output_type": "execute_result"
    }
   ],
   "source": [
    "# using hyper tunning parameter using SVM\n",
    "from sklearn.model_selection import GridSearchCV\n",
    "from sklearn.svm import SVC\n",
    "svc = SVC()\n",
    "\n",
    "# defining parameter range\n",
    "svm_grid_param = {'C': [0.2, 2, 15, 75, 750], \n",
    "              'gamma': [2, 0.2, 0.02, 0.002, 0.0002],\n",
    "              'kernel': ['rbf']} \n",
    "  \n",
    "svm_grid = GridSearchCV(SVC(), svm_grid_param, refit = True, verbose = 3)\n",
    "  \n",
    "# fitting the model for grid search\n",
    "svm_grid.fit(X_train, y_train)"
   ]
  },
  {
   "cell_type": "code",
   "execution_count": 46,
   "id": "aec22459",
   "metadata": {},
   "outputs": [
    {
     "name": "stdout",
     "output_type": "stream",
     "text": [
      "{'C': 750, 'gamma': 0.0002, 'kernel': 'rbf'}\n",
      "SVC(C=750, gamma=0.0002)\n"
     ]
    }
   ],
   "source": [
    "# print best parameter after tuning\n",
    "print(svm_grid.best_params_)\n",
    "  \n",
    "# print how our model looks after hyper-parameter tuning\n",
    "print(svm_grid.best_estimator_)"
   ]
  },
  {
   "cell_type": "code",
   "execution_count": 50,
   "id": "929596df",
   "metadata": {},
   "outputs": [
    {
     "name": "stdout",
     "output_type": "stream",
     "text": [
      "Accuracy: 0.7422222222222222\n"
     ]
    }
   ],
   "source": [
    "svm_grid_predict = svm_grid.predict(X_test)\n",
    "# print classification report\n",
    "print(\"Accuracy:\",metrics.accuracy_score(y_test, svm_grid_predict))"
   ]
  },
  {
   "cell_type": "code",
   "execution_count": 51,
   "id": "5c36fbb1",
   "metadata": {},
   "outputs": [
    {
     "name": "stdout",
     "output_type": "stream",
     "text": [
      "*****Accuracy of all the technics ********\n",
      "Accuracy of Decesion Tree Classifier : 0.7977777777777778\n",
      "Accuracy of Random Forest Classifier : 0.8777777777777778\n",
      "Accuracy of SVM with grid search : 0.7422222222222222\n"
     ]
    }
   ],
   "source": [
    "print(\"*****Accuracy of all the technics ********\")\n",
    "print(\"Accuracy of Decesion Tree Classifier :\", metrics.accuracy_score(y_test, y_test_predct))\n",
    "print(\"Accuracy of Random Forest Classifier :\", accuracy_score(y_test, rfc_random_best_prdct))\n",
    "print(\"Accuracy of SVM with grid search :\",metrics.accuracy_score(y_test, svm_grid_predict))\n"
   ]
  },
  {
   "cell_type": "markdown",
   "id": "024c5698",
   "metadata": {},
   "source": [
    "From the above results we can say that the best fit classfier for the given dataset is Random forest classifier."
   ]
  },
  {
   "cell_type": "code",
   "execution_count": 52,
   "id": "e41e77af",
   "metadata": {},
   "outputs": [],
   "source": [
    "# Transfering the prediction data to test csv file.\n",
    "\n",
    "df_p2_test['Class'] = rf_pridct\n",
    "df_p2_test.to_csv('CE802_P2_Test.csv')"
   ]
  }
 ],
 "metadata": {
  "kernelspec": {
   "display_name": "Python 3",
   "language": "python",
   "name": "python3"
  },
  "language_info": {
   "codemirror_mode": {
    "name": "ipython",
    "version": 3
   },
   "file_extension": ".py",
   "mimetype": "text/x-python",
   "name": "python",
   "nbconvert_exporter": "python",
   "pygments_lexer": "ipython3",
   "version": "3.7.10"
  }
 },
 "nbformat": 4,
 "nbformat_minor": 5
}
